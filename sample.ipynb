{
 "cells": [
  {
   "metadata": {},
   "cell_type": "markdown",
   "source": "# Jupyter Notebook Para DATA MINING",
   "id": "8a77807f92f26ee"
  },
  {
   "metadata": {
    "ExecuteTime": {
     "end_time": "2024-05-28T22:29:34.180927Z",
     "start_time": "2024-05-28T22:29:31.531551Z"
    }
   },
   "cell_type": "code",
   "source": [
    "# Importações\n",
    "import pandas\n",
    "import sqlite3\n",
    "\n",
    "# Carregando os dados\n",
    "data = pandas.read_csv('data/acidentes2023_todas_causas_tipos.csv', encoding='ISO-8859-1', sep=\";\")\n",
    "data.info()"
   ],
   "id": "fbc121e30a2defb3",
   "outputs": [
    {
     "name": "stdout",
     "output_type": "stream",
     "text": [
      "<class 'pandas.core.frame.DataFrame'>\n",
      "RangeIndex: 514799 entries, 0 to 514798\n",
      "Data columns (total 37 columns):\n",
      " #   Column                  Non-Null Count   Dtype  \n",
      "---  ------                  --------------   -----  \n",
      " 0   id                      514799 non-null  int64  \n",
      " 1   pesid                   514799 non-null  int64  \n",
      " 2   data_inversa            514799 non-null  object \n",
      " 3   dia_semana              514799 non-null  object \n",
      " 4   horario                 514799 non-null  object \n",
      " 5   uf                      514799 non-null  object \n",
      " 6   br                      513037 non-null  float64\n",
      " 7   km                      513037 non-null  object \n",
      " 8   municipio               514799 non-null  object \n",
      " 9   causa_principal         514799 non-null  object \n",
      " 10  causa_acidente          514799 non-null  object \n",
      " 11  ordem_tipo_acidente     514799 non-null  int64  \n",
      " 12  tipo_acidente           514799 non-null  object \n",
      " 13  classificacao_acidente  514799 non-null  object \n",
      " 14  fase_dia                514799 non-null  object \n",
      " 15  sentido_via             514799 non-null  object \n",
      " 16  condicao_metereologica  514799 non-null  object \n",
      " 17  tipo_pista              514799 non-null  object \n",
      " 18  tracado_via             514799 non-null  object \n",
      " 19  uso_solo                514799 non-null  object \n",
      " 20  id_veiculo              514799 non-null  int64  \n",
      " 21  tipo_veiculo            514799 non-null  object \n",
      " 22  marca                   493785 non-null  object \n",
      " 23  ano_fabricacao_veiculo  487360 non-null  float64\n",
      " 24  tipo_envolvido          514799 non-null  object \n",
      " 25  estado_fisico           514799 non-null  object \n",
      " 26  idade                   465430 non-null  float64\n",
      " 27  sexo                    514799 non-null  object \n",
      " 28  ilesos                  514799 non-null  int64  \n",
      " 29  feridos_leves           514799 non-null  int64  \n",
      " 30  feridos_graves          514799 non-null  int64  \n",
      " 31  mortos                  514799 non-null  int64  \n",
      " 32  latitude                514799 non-null  object \n",
      " 33  longitude               514799 non-null  object \n",
      " 34  regional                514771 non-null  object \n",
      " 35  delegacia               514406 non-null  object \n",
      " 36  uop                     514308 non-null  object \n",
      "dtypes: float64(3), int64(8), object(26)\n",
      "memory usage: 145.3+ MB\n"
     ]
    }
   ],
   "execution_count": 15
  },
  {
   "metadata": {
    "ExecuteTime": {
     "end_time": "2024-05-28T22:53:55.506569Z",
     "start_time": "2024-05-28T22:53:52.426947Z"
    }
   },
   "cell_type": "code",
   "source": [
    "# Subir base suja para SQLite para visualizar e pesquisar\n",
    "con = sqlite3.connect('data/acidentes.sqlite')\n",
    "data.to_sql(name=\"dirty_2023_data\", con=con, if_exists='replace', index=False)"
   ],
   "id": "3261463e69b29120",
   "outputs": [
    {
     "data": {
      "text/plain": [
       "514799"
      ]
     },
     "execution_count": 29,
     "metadata": {},
     "output_type": "execute_result"
    }
   ],
   "execution_count": 29
  },
  {
   "metadata": {
    "ExecuteTime": {
     "end_time": "2024-05-28T22:43:31.236573Z",
     "start_time": "2024-05-28T22:43:30.721091Z"
    }
   },
   "cell_type": "code",
   "source": [
    "# excluded_columns = ['id', 'pesid', 'data_inversa', 'delegacia','uop']\n",
    "\n",
    "for column in data.columns:\n",
    "    unique = data[column].unique()\n",
    "    unique_len = len(unique)\n",
    "\n",
    "    if unique_len > 50:\n",
    "        print(column, unique_len)\n",
    "        continue\n",
    "\n",
    "    print(column, unique_len, unique)"
   ],
   "id": "91c05187875449de",
   "outputs": [
    {
     "name": "stdout",
     "output_type": "stream",
     "text": [
      "id 67724\n",
      "pesid 166836\n",
      "data_inversa 365\n",
      "dia_semana 7 ['domingo' 'segunda-feira' 'terça-feira' 'quarta-feira' 'quinta-feira'\n",
      " 'sexta-feira' 'sábado']\n",
      "horario 1406\n",
      "uf 27 ['MG' 'RS' 'SE' 'PR' 'SP' 'ES' 'SC' 'RJ' 'MT' 'PE' 'PA' 'CE' 'AM' 'BA'\n",
      " 'DF' 'RO' 'RN' 'GO' 'PB' 'AL' 'MS' 'PI' 'TO' 'MA' 'AP' 'AC' 'RR']\n",
      "br 119\n",
      "km 7638\n",
      "municipio 1825\n",
      "causa_principal 2 ['Sim' 'Não']\n",
      "causa_acidente 76\n",
      "ordem_tipo_acidente 12 [ 2  1  4  3  5  6  7  9  8 10 11 12]\n",
      "tipo_acidente 16 ['Queda de ocupante de veículo' 'Tombamento' 'Capotamento'\n",
      " 'Saída de leito carroçável' 'Colisão com objeto' 'Colisão traseira'\n",
      " 'Atropelamento de Pedestre' 'Colisão transversal'\n",
      " 'Atropelamento de Animal' 'Colisão frontal'\n",
      " 'Colisão lateral mesmo sentido' 'Colisão lateral sentido oposto'\n",
      " 'Derramamento de carga' 'Engavetamento' 'Incêndio' 'Eventos atípicos']\n",
      "classificacao_acidente 3 ['Com Vítimas Feridas' 'Com Vítimas Fatais' 'Sem Vítimas']\n",
      "fase_dia 4 ['Plena Noite' 'Pleno dia' 'Amanhecer' 'Anoitecer']\n",
      "sentido_via 3 ['Crescente' 'Decrescente' 'Não Informado']\n",
      "condicao_metereologica 10 ['Nublado' 'Garoa/Chuvisco' 'Céu Claro' 'Chuva' 'Nevoeiro/Neblina'\n",
      " 'Ignorado' 'Sol' 'Vento' 'Granizo' 'Neve']\n",
      "tipo_pista 3 ['Simples' 'Dupla' 'Múltipla']\n",
      "tracado_via 466\n",
      "uso_solo 2 ['Sim' 'Não']\n",
      "id_veiculo 113253\n",
      "tipo_veiculo 25 ['Motocicleta' 'Automóvel' 'Motoneta' 'Caminhão' 'Não se aplica' 'Outros'\n",
      " 'Bicicleta' 'Caminhonete' 'Caminhão-trator' 'Ônibus' 'Carroça-charrete'\n",
      " 'Utilitário' 'Não Informado' 'Micro-ônibus' 'Ciclomotor'\n",
      " 'Trator de rodas' 'Reboque' 'Triciclo' 'Semireboque' 'Carro de mão'\n",
      " 'Chassi-plataforma' 'Trator misto' 'Quadriciclo' 'Trem-bonde'\n",
      " 'Trator de esteira']\n",
      "marca 5911\n",
      "ano_fabricacao_veiculo 69\n",
      "tipo_envolvido 5 ['Condutor' 'Passageiro' 'Pedestre' 'Testemunha' 'Cavaleiro']\n",
      "estado_fisico 5 ['Lesões Leves' 'Lesões Graves' 'Ileso' 'Não Informado' 'Óbito']\n",
      "idade 119\n",
      "sexo 4 ['Masculino' 'Feminino' 'Não Informado' 'Ignorado']\n",
      "ilesos 2 [0 1]\n",
      "feridos_leves 2 [1 0]\n",
      "feridos_graves 2 [0 1]\n",
      "mortos 2 [0 1]\n",
      "latitude 35961\n",
      "longitude 35957\n",
      "regional 29 ['SPRF-MG' 'SPRF-RS' 'SPRF-SE' 'SPRF-PR' 'SPRF-SP' 'SPRF-ES' 'SPRF-SC'\n",
      " 'SPRF-RJ' 'SPRF-MT' 'SPRF-PE' 'SPRF-PA' 'SPRF-CE' 'SPRF-AM' 'SPRF-BA'\n",
      " 'SPRF-DF' 'SPRF-RO' 'SPRF-RN' 'SPRF-PB' 'SPRF-AL' 'SPRF-MS' 'SPRF-PI'\n",
      " 'SPRF-GO' 'SPRF-TO' 'SPRF-MA' 'SPRF-AP' 'SPRF-AC' 'SPRF-RR' nan 'UniPRF']\n",
      "delegacia 152\n",
      "uop 395\n"
     ]
    }
   ],
   "execution_count": 26
  },
  {
   "metadata": {},
   "cell_type": "code",
   "outputs": [],
   "execution_count": null,
   "source": "",
   "id": "cda82ea82f999e7b"
  }
 ],
 "metadata": {
  "kernelspec": {
   "display_name": "Python 3",
   "language": "python",
   "name": "python3"
  },
  "language_info": {
   "codemirror_mode": {
    "name": "ipython",
    "version": 2
   },
   "file_extension": ".py",
   "mimetype": "text/x-python",
   "name": "python",
   "nbconvert_exporter": "python",
   "pygments_lexer": "ipython2",
   "version": "2.7.6"
  }
 },
 "nbformat": 4,
 "nbformat_minor": 5
}
