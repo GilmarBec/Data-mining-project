{
 "cells": [
  {
   "metadata": {},
   "cell_type": "markdown",
   "source": "# Jupyter Notebook Para DATA MINING",
   "id": "8a77807f92f26ee"
  },
  {
   "metadata": {
    "ExecuteTime": {
     "end_time": "2024-06-10T02:03:50.778104Z",
     "start_time": "2024-06-10T02:03:48.350150Z"
    }
   },
   "cell_type": "code",
   "source": [
    "# Importações\n",
    "import pandas\n",
    "import sqlite3\n",
    "import numpy\n",
    "\n",
    "# Carregando os dados\n",
    "data = pandas.read_csv('data/acidentes2023_todas_causas_tipos.csv', encoding='ISO-8859-1', sep=\";\")\n",
    "data.info()"
   ],
   "id": "fbc121e30a2defb3",
   "outputs": [
    {
     "name": "stdout",
     "output_type": "stream",
     "text": [
      "<class 'pandas.core.frame.DataFrame'>\n",
      "RangeIndex: 514799 entries, 0 to 514798\n",
      "Data columns (total 37 columns):\n",
      " #   Column                  Non-Null Count   Dtype  \n",
      "---  ------                  --------------   -----  \n",
      " 0   id                      514799 non-null  int64  \n",
      " 1   pesid                   514799 non-null  int64  \n",
      " 2   data_inversa            514799 non-null  object \n",
      " 3   dia_semana              514799 non-null  object \n",
      " 4   horario                 514799 non-null  object \n",
      " 5   uf                      514799 non-null  object \n",
      " 6   br                      513037 non-null  float64\n",
      " 7   km                      513037 non-null  object \n",
      " 8   municipio               514799 non-null  object \n",
      " 9   causa_principal         514799 non-null  object \n",
      " 10  causa_acidente          514799 non-null  object \n",
      " 11  ordem_tipo_acidente     514799 non-null  int64  \n",
      " 12  tipo_acidente           514799 non-null  object \n",
      " 13  classificacao_acidente  514799 non-null  object \n",
      " 14  fase_dia                514799 non-null  object \n",
      " 15  sentido_via             514799 non-null  object \n",
      " 16  condicao_metereologica  514799 non-null  object \n",
      " 17  tipo_pista              514799 non-null  object \n",
      " 18  tracado_via             514799 non-null  object \n",
      " 19  uso_solo                514799 non-null  object \n",
      " 20  id_veiculo              514799 non-null  int64  \n",
      " 21  tipo_veiculo            514799 non-null  object \n",
      " 22  marca                   493785 non-null  object \n",
      " 23  ano_fabricacao_veiculo  487360 non-null  float64\n",
      " 24  tipo_envolvido          514799 non-null  object \n",
      " 25  estado_fisico           514799 non-null  object \n",
      " 26  idade                   465430 non-null  float64\n",
      " 27  sexo                    514799 non-null  object \n",
      " 28  ilesos                  514799 non-null  int64  \n",
      " 29  feridos_leves           514799 non-null  int64  \n",
      " 30  feridos_graves          514799 non-null  int64  \n",
      " 31  mortos                  514799 non-null  int64  \n",
      " 32  latitude                514799 non-null  object \n",
      " 33  longitude               514799 non-null  object \n",
      " 34  regional                514771 non-null  object \n",
      " 35  delegacia               514406 non-null  object \n",
      " 36  uop                     514308 non-null  object \n",
      "dtypes: float64(3), int64(8), object(26)\n",
      "memory usage: 145.3+ MB\n"
     ]
    }
   ],
   "execution_count": 72
  },
  {
   "metadata": {
    "ExecuteTime": {
     "end_time": "2024-06-10T02:04:00.049704Z",
     "start_time": "2024-06-10T02:03:50.779185Z"
    }
   },
   "cell_type": "code",
   "source": [
    "# Subir base suja para SQLite para visualizar e pesquisar\n",
    "# con = sqlite3.connect('data/acidentes.sqlite')\n",
    "# data.to_sql(name=\"dirty_2023_data\", con=con, if_exists='replace', index=False)"
   ],
   "id": "3261463e69b29120",
   "outputs": [
    {
     "data": {
      "text/plain": [
       "514799"
      ]
     },
     "execution_count": 73,
     "metadata": {},
     "output_type": "execute_result"
    }
   ],
   "execution_count": 73
  },
  {
   "metadata": {
    "ExecuteTime": {
     "end_time": "2024-06-10T02:04:00.572466Z",
     "start_time": "2024-06-10T02:04:00.050513Z"
    }
   },
   "cell_type": "code",
   "source": [
    "for column in data.columns:\n",
    "    unique = data[column].unique()\n",
    "    unique_len = len(unique)\n",
    "\n",
    "    if unique_len > 50:\n",
    "        print(column, unique_len)\n",
    "        continue\n",
    "\n",
    "    print(column, unique_len, unique)"
   ],
   "id": "91c05187875449de",
   "outputs": [
    {
     "name": "stdout",
     "output_type": "stream",
     "text": [
      "id 67724\n",
      "pesid 166836\n",
      "data_inversa 365\n",
      "dia_semana 7 ['domingo' 'segunda-feira' 'terça-feira' 'quarta-feira' 'quinta-feira'\n",
      " 'sexta-feira' 'sábado']\n",
      "horario 1406\n",
      "uf 27 ['MG' 'RS' 'SE' 'PR' 'SP' 'ES' 'SC' 'RJ' 'MT' 'PE' 'PA' 'CE' 'AM' 'BA'\n",
      " 'DF' 'RO' 'RN' 'GO' 'PB' 'AL' 'MS' 'PI' 'TO' 'MA' 'AP' 'AC' 'RR']\n",
      "br 119\n",
      "km 7638\n",
      "municipio 1825\n",
      "causa_principal 2 ['Sim' 'Não']\n",
      "causa_acidente 76\n",
      "ordem_tipo_acidente 12 [ 2  1  4  3  5  6  7  9  8 10 11 12]\n",
      "tipo_acidente 16 ['Queda de ocupante de veículo' 'Tombamento' 'Capotamento'\n",
      " 'Saída de leito carroçável' 'Colisão com objeto' 'Colisão traseira'\n",
      " 'Atropelamento de Pedestre' 'Colisão transversal'\n",
      " 'Atropelamento de Animal' 'Colisão frontal'\n",
      " 'Colisão lateral mesmo sentido' 'Colisão lateral sentido oposto'\n",
      " 'Derramamento de carga' 'Engavetamento' 'Incêndio' 'Eventos atípicos']\n",
      "classificacao_acidente 3 ['Com Vítimas Feridas' 'Com Vítimas Fatais' 'Sem Vítimas']\n",
      "fase_dia 4 ['Plena Noite' 'Pleno dia' 'Amanhecer' 'Anoitecer']\n",
      "sentido_via 3 ['Crescente' 'Decrescente' 'Não Informado']\n",
      "condicao_metereologica 10 ['Nublado' 'Garoa/Chuvisco' 'Céu Claro' 'Chuva' 'Nevoeiro/Neblina'\n",
      " 'Ignorado' 'Sol' 'Vento' 'Granizo' 'Neve']\n",
      "tipo_pista 3 ['Simples' 'Dupla' 'Múltipla']\n",
      "tracado_via 466\n",
      "uso_solo 2 ['Sim' 'Não']\n",
      "id_veiculo 113253\n",
      "tipo_veiculo 25 ['Motocicleta' 'Automóvel' 'Motoneta' 'Caminhão' 'Não se aplica' 'Outros'\n",
      " 'Bicicleta' 'Caminhonete' 'Caminhão-trator' 'Ônibus' 'Carroça-charrete'\n",
      " 'Utilitário' 'Não Informado' 'Micro-ônibus' 'Ciclomotor'\n",
      " 'Trator de rodas' 'Reboque' 'Triciclo' 'Semireboque' 'Carro de mão'\n",
      " 'Chassi-plataforma' 'Trator misto' 'Quadriciclo' 'Trem-bonde'\n",
      " 'Trator de esteira']\n",
      "marca 5911\n",
      "ano_fabricacao_veiculo 69\n",
      "tipo_envolvido 5 ['Condutor' 'Passageiro' 'Pedestre' 'Testemunha' 'Cavaleiro']\n",
      "estado_fisico 5 ['Lesões Leves' 'Lesões Graves' 'Ileso' 'Não Informado' 'Óbito']\n",
      "idade 119\n",
      "sexo 4 ['Masculino' 'Feminino' 'Não Informado' 'Ignorado']\n",
      "ilesos 2 [0 1]\n",
      "feridos_leves 2 [1 0]\n",
      "feridos_graves 2 [0 1]\n",
      "mortos 2 [0 1]\n",
      "latitude 35961\n",
      "longitude 35957\n",
      "regional 29 ['SPRF-MG' 'SPRF-RS' 'SPRF-SE' 'SPRF-PR' 'SPRF-SP' 'SPRF-ES' 'SPRF-SC'\n",
      " 'SPRF-RJ' 'SPRF-MT' 'SPRF-PE' 'SPRF-PA' 'SPRF-CE' 'SPRF-AM' 'SPRF-BA'\n",
      " 'SPRF-DF' 'SPRF-RO' 'SPRF-RN' 'SPRF-PB' 'SPRF-AL' 'SPRF-MS' 'SPRF-PI'\n",
      " 'SPRF-GO' 'SPRF-TO' 'SPRF-MA' 'SPRF-AP' 'SPRF-AC' 'SPRF-RR' nan 'UniPRF']\n",
      "delegacia 152\n",
      "uop 395\n"
     ]
    }
   ],
   "execution_count": 74
  },
  {
   "metadata": {
    "ExecuteTime": {
     "end_time": "2024-06-10T02:04:00.939324Z",
     "start_time": "2024-06-10T02:04:00.573798Z"
    }
   },
   "cell_type": "code",
   "source": "data.isnull().sum()",
   "id": "cda82ea82f999e7b",
   "outputs": [
    {
     "data": {
      "text/plain": [
       "id                            0\n",
       "pesid                         0\n",
       "data_inversa                  0\n",
       "dia_semana                    0\n",
       "horario                       0\n",
       "uf                            0\n",
       "br                         1762\n",
       "km                         1762\n",
       "municipio                     0\n",
       "causa_principal               0\n",
       "causa_acidente                0\n",
       "ordem_tipo_acidente           0\n",
       "tipo_acidente                 0\n",
       "classificacao_acidente        0\n",
       "fase_dia                      0\n",
       "sentido_via                   0\n",
       "condicao_metereologica        0\n",
       "tipo_pista                    0\n",
       "tracado_via                   0\n",
       "uso_solo                      0\n",
       "id_veiculo                    0\n",
       "tipo_veiculo                  0\n",
       "marca                     21014\n",
       "ano_fabricacao_veiculo    27439\n",
       "tipo_envolvido                0\n",
       "estado_fisico                 0\n",
       "idade                     49369\n",
       "sexo                          0\n",
       "ilesos                        0\n",
       "feridos_leves                 0\n",
       "feridos_graves                0\n",
       "mortos                        0\n",
       "latitude                      0\n",
       "longitude                     0\n",
       "regional                     28\n",
       "delegacia                   393\n",
       "uop                         491\n",
       "dtype: int64"
      ]
     },
     "execution_count": 75,
     "metadata": {},
     "output_type": "execute_result"
    }
   ],
   "execution_count": 75
  },
  {
   "metadata": {
    "ExecuteTime": {
     "end_time": "2024-06-10T02:04:01.607003Z",
     "start_time": "2024-06-10T02:04:00.940238Z"
    }
   },
   "cell_type": "code",
   "source": "print('Number of duplicate rows = %d' % (data.duplicated().sum()))",
   "id": "6be6c126e686b19f",
   "outputs": [
    {
     "name": "stdout",
     "output_type": "stream",
     "text": [
      "Number of duplicate rows = 0\n"
     ]
    }
   ],
   "execution_count": 76
  },
  {
   "metadata": {},
   "cell_type": "markdown",
   "source": "# Conversão de dados",
   "id": "4ea543a8b67a3c01"
  },
  {
   "metadata": {
    "ExecuteTime": {
     "end_time": "2024-06-10T02:04:01.835833Z",
     "start_time": "2024-06-10T02:04:01.607788Z"
    }
   },
   "cell_type": "code",
   "source": [
    "# Dia da semana\n",
    "week_2_number = {\n",
    "    'segunda-feira': 0,\n",
    "    'terça-feira': 1,\n",
    "    'quarta-feira': 2,\n",
    "    'quinta-feira': 3,\n",
    "    'sexta-feira': 4,\n",
    "    'sábado': 5,\n",
    "    'domingo': 6,\n",
    "}\n",
    "\n",
    "for key in week_2_number.keys():\n",
    "    data['dia_semana'].replace(key, week_2_number[key], inplace=True)\n",
    "\n",
    "data['dia_semana'].unique()"
   ],
   "id": "260a74a11588c144",
   "outputs": [
    {
     "name": "stderr",
     "output_type": "stream",
     "text": [
      "/tmp/ipykernel_65838/1895330286.py:13: FutureWarning: A value is trying to be set on a copy of a DataFrame or Series through chained assignment using an inplace method.\n",
      "The behavior will change in pandas 3.0. This inplace method will never work because the intermediate object on which we are setting values always behaves as a copy.\n",
      "\n",
      "For example, when doing 'df[col].method(value, inplace=True)', try using 'df.method({col: value}, inplace=True)' or df[col] = df[col].method(value) instead, to perform the operation inplace on the original object.\n",
      "\n",
      "\n",
      "  data['dia_semana'].replace(key, week_2_number[key], inplace=True)\n",
      "/tmp/ipykernel_65838/1895330286.py:13: FutureWarning: Downcasting behavior in `replace` is deprecated and will be removed in a future version. To retain the old behavior, explicitly call `result.infer_objects(copy=False)`. To opt-in to the future behavior, set `pd.set_option('future.no_silent_downcasting', True)`\n",
      "  data['dia_semana'].replace(key, week_2_number[key], inplace=True)\n"
     ]
    },
    {
     "data": {
      "text/plain": [
       "array([6, 0, 1, 2, 3, 4, 5])"
      ]
     },
     "execution_count": 77,
     "metadata": {},
     "output_type": "execute_result"
    }
   ],
   "execution_count": 77
  },
  {
   "metadata": {
    "ExecuteTime": {
     "end_time": "2024-06-10T02:04:05.100388Z",
     "start_time": "2024-06-10T02:04:01.836686Z"
    }
   },
   "cell_type": "code",
   "source": [
    "data_hora = []\n",
    "for i in range(len(data)):\n",
    "    data_hora.append(data['data_inversa'][i] + ' ' + data['horario'][i][:5] + 'Z')\n",
    "\n",
    "data['data_hora'] = pandas.to_datetime(data_hora, format='ISO8601')\n"
   ],
   "id": "8b5b225ca4cc2377",
   "outputs": [],
   "execution_count": 78
  },
  {
   "metadata": {},
   "cell_type": "markdown",
   "source": "### Cast para str",
   "id": "53402d1f3e58cece"
  },
  {
   "metadata": {
    "ExecuteTime": {
     "end_time": "2024-06-10T02:04:05.522709Z",
     "start_time": "2024-06-10T02:04:05.101597Z"
    }
   },
   "cell_type": "code",
   "source": [
    "fields_2_str = ['data_inversa', 'horario', 'uf', 'municipio', 'causa_acidente', 'tipo_acidente', 'classificacao_acidente', 'fase_dia', 'sentido_via', 'condicao_metereologica', 'tipo_pista', 'tracado_via', 'tipo_veiculo', 'marca', 'tipo_envolvido', 'estado_fisico', 'sexo', 'latitude', 'longitude', 'regional', 'delegacia', 'uop']\n",
    "for field in fields_2_str:\n",
    "    data[field] = data[field].convert_dtypes('string')\n"
   ],
   "id": "1a534f700c4a3f87",
   "outputs": [],
   "execution_count": 79
  },
  {
   "metadata": {},
   "cell_type": "markdown",
   "source": "### Cast Boolean",
   "id": "f9585154eb281046"
  },
  {
   "metadata": {
    "ExecuteTime": {
     "end_time": "2024-06-10T02:04:05.727268Z",
     "start_time": "2024-06-10T02:04:05.523617Z"
    }
   },
   "cell_type": "code",
   "source": [
    "data['causa_principal'] = data['causa_principal'].replace(['Sim', 'sim'], True)\n",
    "data['causa_principal'] = data['causa_principal'].replace(['Não', 'não'], False)\n",
    "\n",
    "data['uso_solo'] = data['uso_solo'].replace(['Sim', 'sim'], True)\n",
    "data['uso_solo'] = data['uso_solo'].replace(['Não', 'não'], False)"
   ],
   "id": "755a0da63dfc83e3",
   "outputs": [
    {
     "name": "stderr",
     "output_type": "stream",
     "text": [
      "/tmp/ipykernel_65838/1541778264.py:2: FutureWarning: Downcasting behavior in `replace` is deprecated and will be removed in a future version. To retain the old behavior, explicitly call `result.infer_objects(copy=False)`. To opt-in to the future behavior, set `pd.set_option('future.no_silent_downcasting', True)`\n",
      "  data['causa_principal'] = data['causa_principal'].replace(['Não', 'não'], False)\n",
      "/tmp/ipykernel_65838/1541778264.py:5: FutureWarning: Downcasting behavior in `replace` is deprecated and will be removed in a future version. To retain the old behavior, explicitly call `result.infer_objects(copy=False)`. To opt-in to the future behavior, set `pd.set_option('future.no_silent_downcasting', True)`\n",
      "  data['uso_solo'] = data['uso_solo'].replace(['Não', 'não'], False)\n"
     ]
    }
   ],
   "execution_count": 80
  },
  {
   "metadata": {},
   "cell_type": "markdown",
   "source": "### Cast Float",
   "id": "231b632b84ad8dc6"
  },
  {
   "metadata": {
    "ExecuteTime": {
     "end_time": "2024-06-10T02:04:49.189346Z",
     "start_time": "2024-06-10T02:04:48.950109Z"
    }
   },
   "cell_type": "code",
   "source": [
    "km_to_float = []\n",
    "for value in data['km']:\n",
    "    tmp = value\n",
    "    if isinstance(value, str):\n",
    "        tmp = value.replace(',', '.')\n",
    "\n",
    "    km_to_float.append(float(tmp))\n",
    "\n",
    "data['km'] = km_to_float"
   ],
   "id": "b018a2402f1bb1fb",
   "outputs": [],
   "execution_count": 85
  },
  {
   "metadata": {},
   "cell_type": "markdown",
   "source": "### Reorder",
   "id": "ce2553110b8f1b8a"
  },
  {
   "metadata": {
    "ExecuteTime": {
     "end_time": "2024-06-10T02:04:06.220561Z",
     "start_time": "2024-06-10T02:04:05.957216Z"
    }
   },
   "cell_type": "code",
   "source": [
    "data.columns.tolist()\n",
    "# data = data[cols]\n",
    "cols = ['id', 'pesid', 'data_hora', 'data_inversa', 'dia_semana', 'horario', 'uf', 'br', 'km', 'municipio', 'causa_principal', 'causa_acidente', 'ordem_tipo_acidente', 'tipo_acidente', 'classificacao_acidente', 'fase_dia', 'sentido_via', 'condicao_metereologica', 'tipo_pista', 'tracado_via', 'uso_solo', 'id_veiculo', 'tipo_veiculo', 'marca', 'ano_fabricacao_veiculo', 'tipo_envolvido', 'estado_fisico', 'idade', 'sexo', 'ilesos', 'feridos_leves', 'feridos_graves', 'mortos', 'latitude', 'longitude', 'regional', 'delegacia', 'uop',]\n",
    "data = data[cols]"
   ],
   "id": "c22ec9972b265b67",
   "outputs": [],
   "execution_count": 82
  },
  {
   "metadata": {},
   "cell_type": "markdown",
   "source": "# Pós processamento",
   "id": "84071b771bafb860"
  },
  {
   "metadata": {
    "ExecuteTime": {
     "end_time": "2024-06-10T02:04:55.794681Z",
     "start_time": "2024-06-10T02:04:55.510780Z"
    }
   },
   "cell_type": "code",
   "source": "data.info()",
   "id": "1bc092dc7f036692",
   "outputs": [
    {
     "name": "stdout",
     "output_type": "stream",
     "text": [
      "<class 'pandas.core.frame.DataFrame'>\n",
      "RangeIndex: 514799 entries, 0 to 514798\n",
      "Data columns (total 38 columns):\n",
      " #   Column                  Non-Null Count   Dtype              \n",
      "---  ------                  --------------   -----              \n",
      " 0   id                      514799 non-null  int64              \n",
      " 1   pesid                   514799 non-null  int64              \n",
      " 2   data_hora               514799 non-null  datetime64[ns, UTC]\n",
      " 3   data_inversa            514799 non-null  string             \n",
      " 4   dia_semana              514799 non-null  int64              \n",
      " 5   horario                 514799 non-null  string             \n",
      " 6   uf                      514799 non-null  string             \n",
      " 7   br                      513037 non-null  float64            \n",
      " 8   km                      513037 non-null  float64            \n",
      " 9   municipio               514799 non-null  string             \n",
      " 10  causa_principal         514799 non-null  bool               \n",
      " 11  causa_acidente          514799 non-null  string             \n",
      " 12  ordem_tipo_acidente     514799 non-null  int64              \n",
      " 13  tipo_acidente           514799 non-null  string             \n",
      " 14  classificacao_acidente  514799 non-null  string             \n",
      " 15  fase_dia                514799 non-null  string             \n",
      " 16  sentido_via             514799 non-null  string             \n",
      " 17  condicao_metereologica  514799 non-null  string             \n",
      " 18  tipo_pista              514799 non-null  string             \n",
      " 19  tracado_via             514799 non-null  string             \n",
      " 20  uso_solo                514799 non-null  bool               \n",
      " 21  id_veiculo              514799 non-null  int64              \n",
      " 22  tipo_veiculo            514799 non-null  string             \n",
      " 23  marca                   493785 non-null  string             \n",
      " 24  ano_fabricacao_veiculo  487360 non-null  float64            \n",
      " 25  tipo_envolvido          514799 non-null  string             \n",
      " 26  estado_fisico           514799 non-null  string             \n",
      " 27  idade                   465430 non-null  float64            \n",
      " 28  sexo                    514799 non-null  string             \n",
      " 29  ilesos                  514799 non-null  int64              \n",
      " 30  feridos_leves           514799 non-null  int64              \n",
      " 31  feridos_graves          514799 non-null  int64              \n",
      " 32  mortos                  514799 non-null  int64              \n",
      " 33  latitude                514799 non-null  string             \n",
      " 34  longitude               514799 non-null  string             \n",
      " 35  regional                514771 non-null  string             \n",
      " 36  delegacia               514406 non-null  string             \n",
      " 37  uop                     514308 non-null  string             \n",
      "dtypes: bool(2), datetime64[ns, UTC](1), float64(4), int64(9), string(22)\n",
      "memory usage: 142.4 MB\n"
     ]
    }
   ],
   "execution_count": 86
  },
  {
   "metadata": {
    "ExecuteTime": {
     "end_time": "2024-06-10T02:04:58.490904Z",
     "start_time": "2024-06-10T02:04:58.474465Z"
    }
   },
   "cell_type": "code",
   "source": "data[:10]",
   "id": "e802d2d7cf8cfca8",
   "outputs": [
    {
     "data": {
      "text/plain": [
       "       id    pesid                 data_hora data_inversa  dia_semana  \\\n",
       "0  496506  1082142 2023-01-01 00:15:00+00:00   2023-01-01           6   \n",
       "1  496506  1082142 2023-01-01 00:15:00+00:00   2023-01-01           6   \n",
       "2  496506  1082142 2023-01-01 00:15:00+00:00   2023-01-01           6   \n",
       "3  496506  1082142 2023-01-01 00:15:00+00:00   2023-01-01           6   \n",
       "4  496507  1082138 2023-01-01 00:20:00+00:00   2023-01-01           6   \n",
       "5  496512  1082880 2023-01-01 00:55:00+00:00   2023-01-01           6   \n",
       "6  496512  1082880 2023-01-01 00:55:00+00:00   2023-01-01           6   \n",
       "7  496512  1082880 2023-01-01 00:55:00+00:00   2023-01-01           6   \n",
       "8  496512  1082880 2023-01-01 00:55:00+00:00   2023-01-01           6   \n",
       "9  496512  1082880 2023-01-01 00:55:00+00:00   2023-01-01           6   \n",
       "\n",
       "    horario  uf     br     km municipio  ...       sexo ilesos  feridos_leves  \\\n",
       "0  00:15:00  MG  116.0  587.0  MANHUACU  ...  Masculino      0              1   \n",
       "1  00:15:00  MG  116.0  587.0  MANHUACU  ...  Masculino      0              1   \n",
       "2  00:15:00  MG  116.0  587.0  MANHUACU  ...  Masculino      0              1   \n",
       "3  00:15:00  MG  116.0  587.0  MANHUACU  ...  Masculino      0              1   \n",
       "4  00:20:00  MG  381.0  686.5    LAVRAS  ...  Masculino      0              1   \n",
       "5  00:55:00  RS  386.0  353.2   ESTRELA  ...   Feminino      0              0   \n",
       "6  00:55:00  RS  386.0  353.2   ESTRELA  ...   Feminino      0              0   \n",
       "7  00:55:00  RS  386.0  353.2   ESTRELA  ...   Feminino      0              0   \n",
       "8  00:55:00  RS  386.0  353.2   ESTRELA  ...   Feminino      0              0   \n",
       "9  00:55:00  RS  386.0  353.2   ESTRELA  ...   Feminino      0              0   \n",
       "\n",
       "  feridos_graves mortos      latitude     longitude regional delegacia  \\\n",
       "0              0      0  -20,24173903  -42,15868042  SPRF-MG  DEL06-MG   \n",
       "1              0      0  -20,24173903  -42,15868042  SPRF-MG  DEL06-MG   \n",
       "2              0      0  -20,24173903  -42,15868042  SPRF-MG  DEL06-MG   \n",
       "3              0      0  -20,24173903  -42,15868042  SPRF-MG  DEL06-MG   \n",
       "4              0      0  -21,17928973  -45,12256622  SPRF-MG  DEL04-MG   \n",
       "5              1      0  -29,50160055  -51,94784403  SPRF-RS  DEL04-RS   \n",
       "6              1      0  -29,50160055  -51,94784403  SPRF-RS  DEL04-RS   \n",
       "7              1      0  -29,50160055  -51,94784403  SPRF-RS  DEL04-RS   \n",
       "8              1      0  -29,50160055  -51,94784403  SPRF-RS  DEL04-RS   \n",
       "9              1      0  -29,50160055  -51,94784403  SPRF-RS  DEL04-RS   \n",
       "\n",
       "              uop  \n",
       "0  UOP03-DEL06-MG  \n",
       "1  UOP03-DEL06-MG  \n",
       "2  UOP03-DEL06-MG  \n",
       "3  UOP03-DEL06-MG  \n",
       "4  UOP02-DEL04-MG  \n",
       "5  UOP02-DEL04-RS  \n",
       "6  UOP02-DEL04-RS  \n",
       "7  UOP02-DEL04-RS  \n",
       "8  UOP02-DEL04-RS  \n",
       "9  UOP02-DEL04-RS  \n",
       "\n",
       "[10 rows x 38 columns]"
      ],
      "text/html": [
       "<div>\n",
       "<style scoped>\n",
       "    .dataframe tbody tr th:only-of-type {\n",
       "        vertical-align: middle;\n",
       "    }\n",
       "\n",
       "    .dataframe tbody tr th {\n",
       "        vertical-align: top;\n",
       "    }\n",
       "\n",
       "    .dataframe thead th {\n",
       "        text-align: right;\n",
       "    }\n",
       "</style>\n",
       "<table border=\"1\" class=\"dataframe\">\n",
       "  <thead>\n",
       "    <tr style=\"text-align: right;\">\n",
       "      <th></th>\n",
       "      <th>id</th>\n",
       "      <th>pesid</th>\n",
       "      <th>data_hora</th>\n",
       "      <th>data_inversa</th>\n",
       "      <th>dia_semana</th>\n",
       "      <th>horario</th>\n",
       "      <th>uf</th>\n",
       "      <th>br</th>\n",
       "      <th>km</th>\n",
       "      <th>municipio</th>\n",
       "      <th>...</th>\n",
       "      <th>sexo</th>\n",
       "      <th>ilesos</th>\n",
       "      <th>feridos_leves</th>\n",
       "      <th>feridos_graves</th>\n",
       "      <th>mortos</th>\n",
       "      <th>latitude</th>\n",
       "      <th>longitude</th>\n",
       "      <th>regional</th>\n",
       "      <th>delegacia</th>\n",
       "      <th>uop</th>\n",
       "    </tr>\n",
       "  </thead>\n",
       "  <tbody>\n",
       "    <tr>\n",
       "      <th>0</th>\n",
       "      <td>496506</td>\n",
       "      <td>1082142</td>\n",
       "      <td>2023-01-01 00:15:00+00:00</td>\n",
       "      <td>2023-01-01</td>\n",
       "      <td>6</td>\n",
       "      <td>00:15:00</td>\n",
       "      <td>MG</td>\n",
       "      <td>116.0</td>\n",
       "      <td>587.0</td>\n",
       "      <td>MANHUACU</td>\n",
       "      <td>...</td>\n",
       "      <td>Masculino</td>\n",
       "      <td>0</td>\n",
       "      <td>1</td>\n",
       "      <td>0</td>\n",
       "      <td>0</td>\n",
       "      <td>-20,24173903</td>\n",
       "      <td>-42,15868042</td>\n",
       "      <td>SPRF-MG</td>\n",
       "      <td>DEL06-MG</td>\n",
       "      <td>UOP03-DEL06-MG</td>\n",
       "    </tr>\n",
       "    <tr>\n",
       "      <th>1</th>\n",
       "      <td>496506</td>\n",
       "      <td>1082142</td>\n",
       "      <td>2023-01-01 00:15:00+00:00</td>\n",
       "      <td>2023-01-01</td>\n",
       "      <td>6</td>\n",
       "      <td>00:15:00</td>\n",
       "      <td>MG</td>\n",
       "      <td>116.0</td>\n",
       "      <td>587.0</td>\n",
       "      <td>MANHUACU</td>\n",
       "      <td>...</td>\n",
       "      <td>Masculino</td>\n",
       "      <td>0</td>\n",
       "      <td>1</td>\n",
       "      <td>0</td>\n",
       "      <td>0</td>\n",
       "      <td>-20,24173903</td>\n",
       "      <td>-42,15868042</td>\n",
       "      <td>SPRF-MG</td>\n",
       "      <td>DEL06-MG</td>\n",
       "      <td>UOP03-DEL06-MG</td>\n",
       "    </tr>\n",
       "    <tr>\n",
       "      <th>2</th>\n",
       "      <td>496506</td>\n",
       "      <td>1082142</td>\n",
       "      <td>2023-01-01 00:15:00+00:00</td>\n",
       "      <td>2023-01-01</td>\n",
       "      <td>6</td>\n",
       "      <td>00:15:00</td>\n",
       "      <td>MG</td>\n",
       "      <td>116.0</td>\n",
       "      <td>587.0</td>\n",
       "      <td>MANHUACU</td>\n",
       "      <td>...</td>\n",
       "      <td>Masculino</td>\n",
       "      <td>0</td>\n",
       "      <td>1</td>\n",
       "      <td>0</td>\n",
       "      <td>0</td>\n",
       "      <td>-20,24173903</td>\n",
       "      <td>-42,15868042</td>\n",
       "      <td>SPRF-MG</td>\n",
       "      <td>DEL06-MG</td>\n",
       "      <td>UOP03-DEL06-MG</td>\n",
       "    </tr>\n",
       "    <tr>\n",
       "      <th>3</th>\n",
       "      <td>496506</td>\n",
       "      <td>1082142</td>\n",
       "      <td>2023-01-01 00:15:00+00:00</td>\n",
       "      <td>2023-01-01</td>\n",
       "      <td>6</td>\n",
       "      <td>00:15:00</td>\n",
       "      <td>MG</td>\n",
       "      <td>116.0</td>\n",
       "      <td>587.0</td>\n",
       "      <td>MANHUACU</td>\n",
       "      <td>...</td>\n",
       "      <td>Masculino</td>\n",
       "      <td>0</td>\n",
       "      <td>1</td>\n",
       "      <td>0</td>\n",
       "      <td>0</td>\n",
       "      <td>-20,24173903</td>\n",
       "      <td>-42,15868042</td>\n",
       "      <td>SPRF-MG</td>\n",
       "      <td>DEL06-MG</td>\n",
       "      <td>UOP03-DEL06-MG</td>\n",
       "    </tr>\n",
       "    <tr>\n",
       "      <th>4</th>\n",
       "      <td>496507</td>\n",
       "      <td>1082138</td>\n",
       "      <td>2023-01-01 00:20:00+00:00</td>\n",
       "      <td>2023-01-01</td>\n",
       "      <td>6</td>\n",
       "      <td>00:20:00</td>\n",
       "      <td>MG</td>\n",
       "      <td>381.0</td>\n",
       "      <td>686.5</td>\n",
       "      <td>LAVRAS</td>\n",
       "      <td>...</td>\n",
       "      <td>Masculino</td>\n",
       "      <td>0</td>\n",
       "      <td>1</td>\n",
       "      <td>0</td>\n",
       "      <td>0</td>\n",
       "      <td>-21,17928973</td>\n",
       "      <td>-45,12256622</td>\n",
       "      <td>SPRF-MG</td>\n",
       "      <td>DEL04-MG</td>\n",
       "      <td>UOP02-DEL04-MG</td>\n",
       "    </tr>\n",
       "    <tr>\n",
       "      <th>5</th>\n",
       "      <td>496512</td>\n",
       "      <td>1082880</td>\n",
       "      <td>2023-01-01 00:55:00+00:00</td>\n",
       "      <td>2023-01-01</td>\n",
       "      <td>6</td>\n",
       "      <td>00:55:00</td>\n",
       "      <td>RS</td>\n",
       "      <td>386.0</td>\n",
       "      <td>353.2</td>\n",
       "      <td>ESTRELA</td>\n",
       "      <td>...</td>\n",
       "      <td>Feminino</td>\n",
       "      <td>0</td>\n",
       "      <td>0</td>\n",
       "      <td>1</td>\n",
       "      <td>0</td>\n",
       "      <td>-29,50160055</td>\n",
       "      <td>-51,94784403</td>\n",
       "      <td>SPRF-RS</td>\n",
       "      <td>DEL04-RS</td>\n",
       "      <td>UOP02-DEL04-RS</td>\n",
       "    </tr>\n",
       "    <tr>\n",
       "      <th>6</th>\n",
       "      <td>496512</td>\n",
       "      <td>1082880</td>\n",
       "      <td>2023-01-01 00:55:00+00:00</td>\n",
       "      <td>2023-01-01</td>\n",
       "      <td>6</td>\n",
       "      <td>00:55:00</td>\n",
       "      <td>RS</td>\n",
       "      <td>386.0</td>\n",
       "      <td>353.2</td>\n",
       "      <td>ESTRELA</td>\n",
       "      <td>...</td>\n",
       "      <td>Feminino</td>\n",
       "      <td>0</td>\n",
       "      <td>0</td>\n",
       "      <td>1</td>\n",
       "      <td>0</td>\n",
       "      <td>-29,50160055</td>\n",
       "      <td>-51,94784403</td>\n",
       "      <td>SPRF-RS</td>\n",
       "      <td>DEL04-RS</td>\n",
       "      <td>UOP02-DEL04-RS</td>\n",
       "    </tr>\n",
       "    <tr>\n",
       "      <th>7</th>\n",
       "      <td>496512</td>\n",
       "      <td>1082880</td>\n",
       "      <td>2023-01-01 00:55:00+00:00</td>\n",
       "      <td>2023-01-01</td>\n",
       "      <td>6</td>\n",
       "      <td>00:55:00</td>\n",
       "      <td>RS</td>\n",
       "      <td>386.0</td>\n",
       "      <td>353.2</td>\n",
       "      <td>ESTRELA</td>\n",
       "      <td>...</td>\n",
       "      <td>Feminino</td>\n",
       "      <td>0</td>\n",
       "      <td>0</td>\n",
       "      <td>1</td>\n",
       "      <td>0</td>\n",
       "      <td>-29,50160055</td>\n",
       "      <td>-51,94784403</td>\n",
       "      <td>SPRF-RS</td>\n",
       "      <td>DEL04-RS</td>\n",
       "      <td>UOP02-DEL04-RS</td>\n",
       "    </tr>\n",
       "    <tr>\n",
       "      <th>8</th>\n",
       "      <td>496512</td>\n",
       "      <td>1082880</td>\n",
       "      <td>2023-01-01 00:55:00+00:00</td>\n",
       "      <td>2023-01-01</td>\n",
       "      <td>6</td>\n",
       "      <td>00:55:00</td>\n",
       "      <td>RS</td>\n",
       "      <td>386.0</td>\n",
       "      <td>353.2</td>\n",
       "      <td>ESTRELA</td>\n",
       "      <td>...</td>\n",
       "      <td>Feminino</td>\n",
       "      <td>0</td>\n",
       "      <td>0</td>\n",
       "      <td>1</td>\n",
       "      <td>0</td>\n",
       "      <td>-29,50160055</td>\n",
       "      <td>-51,94784403</td>\n",
       "      <td>SPRF-RS</td>\n",
       "      <td>DEL04-RS</td>\n",
       "      <td>UOP02-DEL04-RS</td>\n",
       "    </tr>\n",
       "    <tr>\n",
       "      <th>9</th>\n",
       "      <td>496512</td>\n",
       "      <td>1082880</td>\n",
       "      <td>2023-01-01 00:55:00+00:00</td>\n",
       "      <td>2023-01-01</td>\n",
       "      <td>6</td>\n",
       "      <td>00:55:00</td>\n",
       "      <td>RS</td>\n",
       "      <td>386.0</td>\n",
       "      <td>353.2</td>\n",
       "      <td>ESTRELA</td>\n",
       "      <td>...</td>\n",
       "      <td>Feminino</td>\n",
       "      <td>0</td>\n",
       "      <td>0</td>\n",
       "      <td>1</td>\n",
       "      <td>0</td>\n",
       "      <td>-29,50160055</td>\n",
       "      <td>-51,94784403</td>\n",
       "      <td>SPRF-RS</td>\n",
       "      <td>DEL04-RS</td>\n",
       "      <td>UOP02-DEL04-RS</td>\n",
       "    </tr>\n",
       "  </tbody>\n",
       "</table>\n",
       "<p>10 rows × 38 columns</p>\n",
       "</div>"
      ]
     },
     "execution_count": 87,
     "metadata": {},
     "output_type": "execute_result"
    }
   ],
   "execution_count": 87
  },
  {
   "metadata": {
    "ExecuteTime": {
     "end_time": "2024-06-10T02:04:06.548989Z",
     "start_time": "2024-06-10T02:04:06.547240Z"
    }
   },
   "cell_type": "code",
   "source": "",
   "id": "ddbf11430965ba16",
   "outputs": [],
   "execution_count": 84
  }
 ],
 "metadata": {
  "kernelspec": {
   "display_name": "Python 3",
   "language": "python",
   "name": "python3"
  },
  "language_info": {
   "codemirror_mode": {
    "name": "ipython",
    "version": 2
   },
   "file_extension": ".py",
   "mimetype": "text/x-python",
   "name": "python",
   "nbconvert_exporter": "python",
   "pygments_lexer": "ipython2",
   "version": "2.7.6"
  }
 },
 "nbformat": 4,
 "nbformat_minor": 5
}
