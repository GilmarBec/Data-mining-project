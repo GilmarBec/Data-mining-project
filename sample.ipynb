{
 "cells": [
  {
   "metadata": {},
   "cell_type": "markdown",
   "source": "# Jupyter Notebook Para DATA MINING",
   "id": "8a77807f92f26ee"
  },
  {
   "metadata": {
    "ExecuteTime": {
     "end_time": "2024-06-29T19:56:41.898278Z",
     "start_time": "2024-06-29T19:56:38.947090Z"
    }
   },
   "cell_type": "code",
   "source": [
    "# Importações\n",
    "import pandas\n",
    "import sqlite3\n",
    "\n",
    "# Carregando os dados\n",
    "data = pandas.read_csv('data/acidentes2023_todas_causas_tipos.csv', encoding='ISO-8859-1', sep=\";\")\n",
    "data.info()\n",
    "\n",
    "# Flags para não rodar o mesmo código 2 vezes, para forçar isso adicionar o código \"SECURITY_FLAGS['A_FLAG_ESPECÍFICA'] = False\" antes da validação de flag\n",
    "SECURITY_FLAGS = {}\n",
    "def should_run(flag):\n",
    "    response = flag not in SECURITY_FLAGS or not SECURITY_FLAGS[flag]\n",
    "    SECURITY_FLAGS[flag] = True\n",
    "    return response\n",
    "\n",
    "def snapshot(table_name):\n",
    "    pass\n",
    "    # con = sqlite3.connect('data/acidentes.sqlite')\n",
    "    # data.to_sql(name=table_name, con=con, if_exists='replace', index=False)"
   ],
   "id": "fbc121e30a2defb3",
   "outputs": [
    {
     "name": "stdout",
     "output_type": "stream",
     "text": [
      "<class 'pandas.core.frame.DataFrame'>\n",
      "RangeIndex: 514799 entries, 0 to 514798\n",
      "Data columns (total 37 columns):\n",
      " #   Column                  Non-Null Count   Dtype  \n",
      "---  ------                  --------------   -----  \n",
      " 0   id                      514799 non-null  int64  \n",
      " 1   pesid                   514799 non-null  int64  \n",
      " 2   data_inversa            514799 non-null  object \n",
      " 3   dia_semana              514799 non-null  object \n",
      " 4   horario                 514799 non-null  object \n",
      " 5   uf                      514799 non-null  object \n",
      " 6   br                      513037 non-null  float64\n",
      " 7   km                      513037 non-null  object \n",
      " 8   municipio               514799 non-null  object \n",
      " 9   causa_principal         514799 non-null  object \n",
      " 10  causa_acidente          514799 non-null  object \n",
      " 11  ordem_tipo_acidente     514799 non-null  int64  \n",
      " 12  tipo_acidente           514799 non-null  object \n",
      " 13  classificacao_acidente  514799 non-null  object \n",
      " 14  fase_dia                514799 non-null  object \n",
      " 15  sentido_via             514799 non-null  object \n",
      " 16  condicao_metereologica  514799 non-null  object \n",
      " 17  tipo_pista              514799 non-null  object \n",
      " 18  tracado_via             514799 non-null  object \n",
      " 19  uso_solo                514799 non-null  object \n",
      " 20  id_veiculo              514799 non-null  int64  \n",
      " 21  tipo_veiculo            514799 non-null  object \n",
      " 22  marca                   493785 non-null  object \n",
      " 23  ano_fabricacao_veiculo  487360 non-null  float64\n",
      " 24  tipo_envolvido          514799 non-null  object \n",
      " 25  estado_fisico           514799 non-null  object \n",
      " 26  idade                   465430 non-null  float64\n",
      " 27  sexo                    514799 non-null  object \n",
      " 28  ilesos                  514799 non-null  int64  \n",
      " 29  feridos_leves           514799 non-null  int64  \n",
      " 30  feridos_graves          514799 non-null  int64  \n",
      " 31  mortos                  514799 non-null  int64  \n",
      " 32  latitude                514799 non-null  object \n",
      " 33  longitude               514799 non-null  object \n",
      " 34  regional                514771 non-null  object \n",
      " 35  delegacia               514406 non-null  object \n",
      " 36  uop                     514308 non-null  object \n",
      "dtypes: float64(3), int64(8), object(26)\n",
      "memory usage: 145.3+ MB\n"
     ]
    }
   ],
   "execution_count": 23
  },
  {
   "metadata": {
    "ExecuteTime": {
     "end_time": "2024-06-29T19:56:41.901808Z",
     "start_time": "2024-06-29T19:56:41.899634Z"
    }
   },
   "cell_type": "code",
   "source": [
    "# Subir base suja para SQLite para visualizar e pesquisar\n",
    "if should_run('SQLite - Dirty data'):\n",
    "    snapshot('dirty_2023_data')"
   ],
   "id": "3261463e69b29120",
   "outputs": [],
   "execution_count": 24
  },
  {
   "metadata": {
    "ExecuteTime": {
     "end_time": "2024-06-29T19:56:42.431427Z",
     "start_time": "2024-06-29T19:56:41.902862Z"
    }
   },
   "cell_type": "code",
   "source": [
    "for column in data.columns:\n",
    "    unique = data[column].unique()\n",
    "    unique_len = len(unique)\n",
    "\n",
    "    if unique_len > 50:\n",
    "        print(column, unique_len)\n",
    "        continue\n",
    "\n",
    "    print(column, unique_len, unique)"
   ],
   "id": "91c05187875449de",
   "outputs": [
    {
     "name": "stdout",
     "output_type": "stream",
     "text": [
      "id 67724\n",
      "pesid 166836\n",
      "data_inversa 365\n",
      "dia_semana 7 ['domingo' 'segunda-feira' 'terça-feira' 'quarta-feira' 'quinta-feira'\n",
      " 'sexta-feira' 'sábado']\n",
      "horario 1406\n",
      "uf 27 ['MG' 'RS' 'SE' 'PR' 'SP' 'ES' 'SC' 'RJ' 'MT' 'PE' 'PA' 'CE' 'AM' 'BA'\n",
      " 'DF' 'RO' 'RN' 'GO' 'PB' 'AL' 'MS' 'PI' 'TO' 'MA' 'AP' 'AC' 'RR']\n",
      "br 119\n",
      "km 7638\n",
      "municipio 1825\n",
      "causa_principal 2 ['Sim' 'Não']\n",
      "causa_acidente 76\n",
      "ordem_tipo_acidente 12 [ 2  1  4  3  5  6  7  9  8 10 11 12]\n",
      "tipo_acidente 16 ['Queda de ocupante de veículo' 'Tombamento' 'Capotamento'\n",
      " 'Saída de leito carroçável' 'Colisão com objeto' 'Colisão traseira'\n",
      " 'Atropelamento de Pedestre' 'Colisão transversal'\n",
      " 'Atropelamento de Animal' 'Colisão frontal'\n",
      " 'Colisão lateral mesmo sentido' 'Colisão lateral sentido oposto'\n",
      " 'Derramamento de carga' 'Engavetamento' 'Incêndio' 'Eventos atípicos']\n",
      "classificacao_acidente 3 ['Com Vítimas Feridas' 'Com Vítimas Fatais' 'Sem Vítimas']\n",
      "fase_dia 4 ['Plena Noite' 'Pleno dia' 'Amanhecer' 'Anoitecer']\n",
      "sentido_via 3 ['Crescente' 'Decrescente' 'Não Informado']\n",
      "condicao_metereologica 10 ['Nublado' 'Garoa/Chuvisco' 'Céu Claro' 'Chuva' 'Nevoeiro/Neblina'\n",
      " 'Ignorado' 'Sol' 'Vento' 'Granizo' 'Neve']\n",
      "tipo_pista 3 ['Simples' 'Dupla' 'Múltipla']\n",
      "tracado_via 466\n",
      "uso_solo 2 ['Sim' 'Não']\n",
      "id_veiculo 113253\n",
      "tipo_veiculo 25 ['Motocicleta' 'Automóvel' 'Motoneta' 'Caminhão' 'Não se aplica' 'Outros'\n",
      " 'Bicicleta' 'Caminhonete' 'Caminhão-trator' 'Ônibus' 'Carroça-charrete'\n",
      " 'Utilitário' 'Não Informado' 'Micro-ônibus' 'Ciclomotor'\n",
      " 'Trator de rodas' 'Reboque' 'Triciclo' 'Semireboque' 'Carro de mão'\n",
      " 'Chassi-plataforma' 'Trator misto' 'Quadriciclo' 'Trem-bonde'\n",
      " 'Trator de esteira']\n",
      "marca 5911\n",
      "ano_fabricacao_veiculo 69\n",
      "tipo_envolvido 5 ['Condutor' 'Passageiro' 'Pedestre' 'Testemunha' 'Cavaleiro']\n",
      "estado_fisico 5 ['Lesões Leves' 'Lesões Graves' 'Ileso' 'Não Informado' 'Óbito']\n",
      "idade 119\n",
      "sexo 4 ['Masculino' 'Feminino' 'Não Informado' 'Ignorado']\n",
      "ilesos 2 [0 1]\n",
      "feridos_leves 2 [1 0]\n",
      "feridos_graves 2 [0 1]\n",
      "mortos 2 [0 1]\n",
      "latitude 35961\n",
      "longitude 35957\n",
      "regional 29 ['SPRF-MG' 'SPRF-RS' 'SPRF-SE' 'SPRF-PR' 'SPRF-SP' 'SPRF-ES' 'SPRF-SC'\n",
      " 'SPRF-RJ' 'SPRF-MT' 'SPRF-PE' 'SPRF-PA' 'SPRF-CE' 'SPRF-AM' 'SPRF-BA'\n",
      " 'SPRF-DF' 'SPRF-RO' 'SPRF-RN' 'SPRF-PB' 'SPRF-AL' 'SPRF-MS' 'SPRF-PI'\n",
      " 'SPRF-GO' 'SPRF-TO' 'SPRF-MA' 'SPRF-AP' 'SPRF-AC' 'SPRF-RR' nan 'UniPRF']\n",
      "delegacia 152\n",
      "uop 395\n"
     ]
    }
   ],
   "execution_count": 25
  },
  {
   "metadata": {
    "ExecuteTime": {
     "end_time": "2024-06-29T19:56:42.754183Z",
     "start_time": "2024-06-29T19:56:42.432838Z"
    }
   },
   "cell_type": "code",
   "source": "data.isnull().sum()",
   "id": "cda82ea82f999e7b",
   "outputs": [
    {
     "data": {
      "text/plain": [
       "id                            0\n",
       "pesid                         0\n",
       "data_inversa                  0\n",
       "dia_semana                    0\n",
       "horario                       0\n",
       "uf                            0\n",
       "br                         1762\n",
       "km                         1762\n",
       "municipio                     0\n",
       "causa_principal               0\n",
       "causa_acidente                0\n",
       "ordem_tipo_acidente           0\n",
       "tipo_acidente                 0\n",
       "classificacao_acidente        0\n",
       "fase_dia                      0\n",
       "sentido_via                   0\n",
       "condicao_metereologica        0\n",
       "tipo_pista                    0\n",
       "tracado_via                   0\n",
       "uso_solo                      0\n",
       "id_veiculo                    0\n",
       "tipo_veiculo                  0\n",
       "marca                     21014\n",
       "ano_fabricacao_veiculo    27439\n",
       "tipo_envolvido                0\n",
       "estado_fisico                 0\n",
       "idade                     49369\n",
       "sexo                          0\n",
       "ilesos                        0\n",
       "feridos_leves                 0\n",
       "feridos_graves                0\n",
       "mortos                        0\n",
       "latitude                      0\n",
       "longitude                     0\n",
       "regional                     28\n",
       "delegacia                   393\n",
       "uop                         491\n",
       "dtype: int64"
      ]
     },
     "execution_count": 26,
     "metadata": {},
     "output_type": "execute_result"
    }
   ],
   "execution_count": 26
  },
  {
   "metadata": {
    "ExecuteTime": {
     "end_time": "2024-06-29T19:56:43.475987Z",
     "start_time": "2024-06-29T19:56:42.754932Z"
    }
   },
   "cell_type": "code",
   "source": "print('Number of duplicate rows = %d' % (data.duplicated().sum()))",
   "id": "6be6c126e686b19f",
   "outputs": [
    {
     "name": "stdout",
     "output_type": "stream",
     "text": [
      "Number of duplicate rows = 0\n"
     ]
    }
   ],
   "execution_count": 27
  },
  {
   "metadata": {},
   "cell_type": "markdown",
   "source": "# Conversão de dados",
   "id": "4ea543a8b67a3c01"
  },
  {
   "metadata": {
    "ExecuteTime": {
     "end_time": "2024-06-29T19:56:43.696919Z",
     "start_time": "2024-06-29T19:56:43.476920Z"
    }
   },
   "cell_type": "code",
   "source": [
    "if should_run('week_2_number'):\n",
    "    # Dia da semana\n",
    "    week_2_number = {\n",
    "        'segunda-feira': 0,\n",
    "        'terça-feira': 1,\n",
    "        'quarta-feira': 2,\n",
    "        'quinta-feira': 3,\n",
    "        'sexta-feira': 4,\n",
    "        'sábado': 5,\n",
    "        'domingo': 6,\n",
    "    }\n",
    "    \n",
    "    for key in week_2_number.keys():\n",
    "        data['dia_semana'].replace(key, week_2_number[key], inplace=True)\n",
    "    \n",
    "    data['dia_semana'].unique()"
   ],
   "id": "260a74a11588c144",
   "outputs": [
    {
     "name": "stderr",
     "output_type": "stream",
     "text": [
      "/tmp/ipykernel_42337/694074818.py:14: FutureWarning: A value is trying to be set on a copy of a DataFrame or Series through chained assignment using an inplace method.\n",
      "The behavior will change in pandas 3.0. This inplace method will never work because the intermediate object on which we are setting values always behaves as a copy.\n",
      "\n",
      "For example, when doing 'df[col].method(value, inplace=True)', try using 'df.method({col: value}, inplace=True)' or df[col] = df[col].method(value) instead, to perform the operation inplace on the original object.\n",
      "\n",
      "\n",
      "  data['dia_semana'].replace(key, week_2_number[key], inplace=True)\n",
      "/tmp/ipykernel_42337/694074818.py:14: FutureWarning: Downcasting behavior in `replace` is deprecated and will be removed in a future version. To retain the old behavior, explicitly call `result.infer_objects(copy=False)`. To opt-in to the future behavior, set `pd.set_option('future.no_silent_downcasting', True)`\n",
      "  data['dia_semana'].replace(key, week_2_number[key], inplace=True)\n"
     ]
    }
   ],
   "execution_count": 28
  },
  {
   "metadata": {
    "ExecuteTime": {
     "end_time": "2024-06-29T19:56:47.296206Z",
     "start_time": "2024-06-29T19:56:43.697756Z"
    }
   },
   "cell_type": "code",
   "source": [
    "if should_run('data_hora'):\n",
    "    data_hora = []\n",
    "    for i in range(len(data)):\n",
    "        data_hora.append(data['data_inversa'][i] + ' ' + data['horario'][i][:5] + 'Z')\n",
    "    \n",
    "    data['data_hora'] = pandas.to_datetime(data_hora, format='ISO8601')\n"
   ],
   "id": "8b5b225ca4cc2377",
   "outputs": [],
   "execution_count": 29
  },
  {
   "metadata": {},
   "cell_type": "markdown",
   "source": "## Cast para str",
   "id": "53402d1f3e58cece"
  },
  {
   "metadata": {
    "ExecuteTime": {
     "end_time": "2024-06-29T19:56:47.725823Z",
     "start_time": "2024-06-29T19:56:47.297702Z"
    }
   },
   "cell_type": "code",
   "source": [
    "if should_run('fields_2_str'):\n",
    "    fields_2_str = ['data_inversa', 'horario', 'uf', 'municipio', 'causa_acidente', 'tipo_acidente', 'classificacao_acidente', 'fase_dia', 'sentido_via', 'condicao_metereologica', 'tipo_pista', 'tracado_via', 'tipo_veiculo', 'marca', 'tipo_envolvido', 'estado_fisico', 'sexo', 'latitude', 'longitude', 'regional', 'delegacia', 'uop']\n",
    "    for field in fields_2_str:\n",
    "        data[field] = data[field].convert_dtypes('string')\n"
   ],
   "id": "1a534f700c4a3f87",
   "outputs": [],
   "execution_count": 30
  },
  {
   "metadata": {},
   "cell_type": "markdown",
   "source": "## Cast Boolean",
   "id": "f9585154eb281046"
  },
  {
   "metadata": {
    "ExecuteTime": {
     "end_time": "2024-06-29T19:56:47.921231Z",
     "start_time": "2024-06-29T19:56:47.726629Z"
    }
   },
   "cell_type": "code",
   "source": [
    "if should_run('causa_principal'):\n",
    "    data['causa_principal'] = data['causa_principal'].replace(['Sim', 'sim'], True)\n",
    "    data['causa_principal'] = data['causa_principal'].replace(['Não', 'não'], False)\n",
    "\n",
    "if should_run('uso_solo'):\n",
    "    data['uso_solo'] = data['uso_solo'].replace(['Sim', 'sim'], True)\n",
    "    data['uso_solo'] = data['uso_solo'].replace(['Não', 'não'], False)"
   ],
   "id": "755a0da63dfc83e3",
   "outputs": [
    {
     "name": "stderr",
     "output_type": "stream",
     "text": [
      "/tmp/ipykernel_42337/1626753868.py:3: FutureWarning: Downcasting behavior in `replace` is deprecated and will be removed in a future version. To retain the old behavior, explicitly call `result.infer_objects(copy=False)`. To opt-in to the future behavior, set `pd.set_option('future.no_silent_downcasting', True)`\n",
      "  data['causa_principal'] = data['causa_principal'].replace(['Não', 'não'], False)\n",
      "/tmp/ipykernel_42337/1626753868.py:7: FutureWarning: Downcasting behavior in `replace` is deprecated and will be removed in a future version. To retain the old behavior, explicitly call `result.infer_objects(copy=False)`. To opt-in to the future behavior, set `pd.set_option('future.no_silent_downcasting', True)`\n",
      "  data['uso_solo'] = data['uso_solo'].replace(['Não', 'não'], False)\n"
     ]
    }
   ],
   "execution_count": 31
  },
  {
   "metadata": {},
   "cell_type": "markdown",
   "source": "## Cast Float",
   "id": "231b632b84ad8dc6"
  },
  {
   "metadata": {
    "ExecuteTime": {
     "end_time": "2024-06-29T19:56:48.183960Z",
     "start_time": "2024-06-29T19:56:47.923012Z"
    }
   },
   "cell_type": "code",
   "source": [
    "if should_run('km_to_float'):\n",
    "    km_to_float = []\n",
    "    for value in data['km']:\n",
    "        tmp = value\n",
    "        if isinstance(value, str):\n",
    "            tmp = value.replace(',', '.')\n",
    "    \n",
    "        km_to_float.append(float(tmp))\n",
    "    \n",
    "    data['km'] = km_to_float"
   ],
   "id": "b018a2402f1bb1fb",
   "outputs": [],
   "execution_count": 32
  },
  {
   "metadata": {},
   "cell_type": "markdown",
   "source": "## Reordenação",
   "id": "ce2553110b8f1b8a"
  },
  {
   "metadata": {
    "ExecuteTime": {
     "end_time": "2024-06-29T19:56:48.416832Z",
     "start_time": "2024-06-29T19:56:48.184979Z"
    }
   },
   "cell_type": "code",
   "source": [
    "if should_run('sort'):\n",
    "    data.columns.tolist()\n",
    "    cols = ['id', 'pesid', 'data_hora', 'data_inversa', 'dia_semana', 'horario', 'uf', 'br', 'km', 'municipio', 'causa_principal', 'causa_acidente', 'ordem_tipo_acidente', 'tipo_acidente', 'classificacao_acidente', 'fase_dia', 'sentido_via', 'condicao_metereologica', 'tipo_pista', 'tracado_via', 'uso_solo', 'id_veiculo', 'tipo_veiculo', 'marca', 'ano_fabricacao_veiculo', 'tipo_envolvido', 'estado_fisico', 'idade', 'sexo', 'ilesos', 'feridos_leves', 'feridos_graves', 'mortos', 'latitude', 'longitude', 'regional', 'delegacia', 'uop',]\n",
    "    data = data[cols]"
   ],
   "id": "c22ec9972b265b67",
   "outputs": [],
   "execution_count": 33
  },
  {
   "metadata": {},
   "cell_type": "markdown",
   "source": "## Tratativa do Traçado da Via (TAGS)",
   "id": "6964117bad6fc9ae"
  },
  {
   "metadata": {
    "ExecuteTime": {
     "end_time": "2024-06-29T19:56:48.822951Z",
     "start_time": "2024-06-29T19:56:48.417781Z"
    }
   },
   "cell_type": "code",
   "source": [
    "def cast_tags(field, separator = ';'):\n",
    "    uniques = {}\n",
    "    new_tags = []\n",
    "    for x in data[field]:\n",
    "        tmp = x.strip().split(separator)\n",
    "        valid_tags = []\n",
    "        for index, y in enumerate(tmp):\n",
    "            if y not in uniques:\n",
    "                # Como o campo original só aceita 30 chars o último pode ser cortado,\n",
    "                # Caso ele não tenha sido colocado no dicionário, pode cair no caso de uma Tag cortada\n",
    "                if len(tmp) <= 1 or index != len(tmp) - 1:\n",
    "                    valid_tags.append(y)\n",
    "                    uniques[y] = 1\n",
    "                continue\n",
    "    \n",
    "            valid_tags.append(y)\n",
    "            uniques[y] += 1\n",
    "    \n",
    "        new_tags.append(separator.join(valid_tags))\n",
    "\n",
    "    print(uniques)\n",
    "    return new_tags\n",
    "\n",
    "# print([x.strip() for x in data['tracado_via'].unique()])\n",
    "if should_run('tracado_via'):\n",
    "    data['tracado_via'] = cast_tags('tracado_via')\n"
   ],
   "id": "4941da6afa95b055",
   "outputs": [
    {
     "name": "stdout",
     "output_type": "stream",
     "text": [
      "{'Reta': 377638, 'Curva': 94743, 'Em Obras': 14390, 'Declive': 72329, 'Aclive': 47151, 'Retorno Regulamentado': 10708, 'Rotatória': 9667, 'Viaduto': 7192, 'Interseção de Vias': 35125, 'Ponte': 7012, 'Desvio Temporário': 2090, 'Túnel': 185}\n"
     ]
    }
   ],
   "execution_count": 34
  },
  {
   "metadata": {},
   "cell_type": "markdown",
   "source": "# Pós-processamento",
   "id": "84071b771bafb860"
  },
  {
   "metadata": {
    "ExecuteTime": {
     "end_time": "2024-06-29T19:56:49.106869Z",
     "start_time": "2024-06-29T19:56:48.823718Z"
    }
   },
   "cell_type": "code",
   "source": "data.info()",
   "id": "1bc092dc7f036692",
   "outputs": [
    {
     "name": "stdout",
     "output_type": "stream",
     "text": [
      "<class 'pandas.core.frame.DataFrame'>\n",
      "RangeIndex: 514799 entries, 0 to 514798\n",
      "Data columns (total 38 columns):\n",
      " #   Column                  Non-Null Count   Dtype              \n",
      "---  ------                  --------------   -----              \n",
      " 0   id                      514799 non-null  int64              \n",
      " 1   pesid                   514799 non-null  int64              \n",
      " 2   data_hora               514799 non-null  datetime64[ns, UTC]\n",
      " 3   data_inversa            514799 non-null  string             \n",
      " 4   dia_semana              514799 non-null  int64              \n",
      " 5   horario                 514799 non-null  string             \n",
      " 6   uf                      514799 non-null  string             \n",
      " 7   br                      513037 non-null  float64            \n",
      " 8   km                      513037 non-null  float64            \n",
      " 9   municipio               514799 non-null  string             \n",
      " 10  causa_principal         514799 non-null  bool               \n",
      " 11  causa_acidente          514799 non-null  string             \n",
      " 12  ordem_tipo_acidente     514799 non-null  int64              \n",
      " 13  tipo_acidente           514799 non-null  string             \n",
      " 14  classificacao_acidente  514799 non-null  string             \n",
      " 15  fase_dia                514799 non-null  string             \n",
      " 16  sentido_via             514799 non-null  string             \n",
      " 17  condicao_metereologica  514799 non-null  string             \n",
      " 18  tipo_pista              514799 non-null  string             \n",
      " 19  tracado_via             514799 non-null  object             \n",
      " 20  uso_solo                514799 non-null  bool               \n",
      " 21  id_veiculo              514799 non-null  int64              \n",
      " 22  tipo_veiculo            514799 non-null  string             \n",
      " 23  marca                   493785 non-null  string             \n",
      " 24  ano_fabricacao_veiculo  487360 non-null  float64            \n",
      " 25  tipo_envolvido          514799 non-null  string             \n",
      " 26  estado_fisico           514799 non-null  string             \n",
      " 27  idade                   465430 non-null  float64            \n",
      " 28  sexo                    514799 non-null  string             \n",
      " 29  ilesos                  514799 non-null  int64              \n",
      " 30  feridos_leves           514799 non-null  int64              \n",
      " 31  feridos_graves          514799 non-null  int64              \n",
      " 32  mortos                  514799 non-null  int64              \n",
      " 33  latitude                514799 non-null  string             \n",
      " 34  longitude               514799 non-null  string             \n",
      " 35  regional                514771 non-null  string             \n",
      " 36  delegacia               514406 non-null  string             \n",
      " 37  uop                     514308 non-null  string             \n",
      "dtypes: bool(2), datetime64[ns, UTC](1), float64(4), int64(9), object(1), string(21)\n",
      "memory usage: 142.4+ MB\n"
     ]
    }
   ],
   "execution_count": 35
  },
  {
   "metadata": {
    "ExecuteTime": {
     "end_time": "2024-06-29T19:56:49.729372Z",
     "start_time": "2024-06-29T19:56:49.107748Z"
    }
   },
   "cell_type": "code",
   "source": "data",
   "id": "e802d2d7cf8cfca8",
   "outputs": [
    {
     "data": {
      "text/plain": [
       "            id    pesid                 data_hora data_inversa  dia_semana  \\\n",
       "0       496506  1082142 2023-01-01 00:15:00+00:00   2023-01-01           6   \n",
       "1       496506  1082142 2023-01-01 00:15:00+00:00   2023-01-01           6   \n",
       "2       496506  1082142 2023-01-01 00:15:00+00:00   2023-01-01           6   \n",
       "3       496506  1082142 2023-01-01 00:15:00+00:00   2023-01-01           6   \n",
       "4       496507  1082138 2023-01-01 00:20:00+00:00   2023-01-01           6   \n",
       "...        ...      ...                       ...          ...         ...   \n",
       "514794  589495  1312506 2023-09-10 21:00:00+00:00   2023-09-10           6   \n",
       "514795  589495  1312504 2023-09-10 21:00:00+00:00   2023-09-10           6   \n",
       "514796  589495  1312503 2023-09-10 21:00:00+00:00   2023-09-10           6   \n",
       "514797  589495  1312502 2023-09-10 21:00:00+00:00   2023-09-10           6   \n",
       "514798  589495  1312505 2023-09-10 21:00:00+00:00   2023-09-10           6   \n",
       "\n",
       "         horario  uf     br     km municipio  ...           sexo ilesos  \\\n",
       "0       00:15:00  MG  116.0  587.0  MANHUACU  ...      Masculino      0   \n",
       "1       00:15:00  MG  116.0  587.0  MANHUACU  ...      Masculino      0   \n",
       "2       00:15:00  MG  116.0  587.0  MANHUACU  ...      Masculino      0   \n",
       "3       00:15:00  MG  116.0  587.0  MANHUACU  ...      Masculino      0   \n",
       "4       00:20:00  MG  381.0  686.5    LAVRAS  ...      Masculino      0   \n",
       "...          ...  ..    ...    ...       ...  ...            ...    ...   \n",
       "514794  21:00:00  SC  101.0   73.3  ARAQUARI  ...      Masculino      1   \n",
       "514795  21:00:00  SC  101.0   73.3  ARAQUARI  ...      Masculino      1   \n",
       "514796  21:00:00  SC  101.0   73.3  ARAQUARI  ...      Masculino      1   \n",
       "514797  21:00:00  SC  101.0   73.3  ARAQUARI  ...  Não Informado      0   \n",
       "514798  21:00:00  SC  101.0   73.3  ARAQUARI  ...      Masculino      0   \n",
       "\n",
       "        feridos_leves feridos_graves mortos      latitude     longitude  \\\n",
       "0                   1              0      0  -20,24173903  -42,15868042   \n",
       "1                   1              0      0  -20,24173903  -42,15868042   \n",
       "2                   1              0      0  -20,24173903  -42,15868042   \n",
       "3                   1              0      0  -20,24173903  -42,15868042   \n",
       "4                   1              0      0  -21,17928973  -45,12256622   \n",
       "...               ...            ...    ...           ...           ...   \n",
       "514794              0              0      0  -26,53567108  -48,71326731   \n",
       "514795              0              0      0  -26,53567108  -48,71326731   \n",
       "514796              0              0      0  -26,53567108  -48,71326731   \n",
       "514797              0              0      0  -26,53567108  -48,71326731   \n",
       "514798              1              0      0  -26,53567108  -48,71326731   \n",
       "\n",
       "       regional delegacia             uop  \n",
       "0       SPRF-MG  DEL06-MG  UOP03-DEL06-MG  \n",
       "1       SPRF-MG  DEL06-MG  UOP03-DEL06-MG  \n",
       "2       SPRF-MG  DEL06-MG  UOP03-DEL06-MG  \n",
       "3       SPRF-MG  DEL06-MG  UOP03-DEL06-MG  \n",
       "4       SPRF-MG  DEL04-MG  UOP02-DEL04-MG  \n",
       "...         ...       ...             ...  \n",
       "514794  SPRF-SC  DEL03-SC  UOP02-DEL03-SC  \n",
       "514795  SPRF-SC  DEL03-SC  UOP02-DEL03-SC  \n",
       "514796  SPRF-SC  DEL03-SC  UOP02-DEL03-SC  \n",
       "514797  SPRF-SC  DEL03-SC  UOP02-DEL03-SC  \n",
       "514798  SPRF-SC  DEL03-SC  UOP02-DEL03-SC  \n",
       "\n",
       "[514799 rows x 38 columns]"
      ],
      "text/html": [
       "<div>\n",
       "<style scoped>\n",
       "    .dataframe tbody tr th:only-of-type {\n",
       "        vertical-align: middle;\n",
       "    }\n",
       "\n",
       "    .dataframe tbody tr th {\n",
       "        vertical-align: top;\n",
       "    }\n",
       "\n",
       "    .dataframe thead th {\n",
       "        text-align: right;\n",
       "    }\n",
       "</style>\n",
       "<table border=\"1\" class=\"dataframe\">\n",
       "  <thead>\n",
       "    <tr style=\"text-align: right;\">\n",
       "      <th></th>\n",
       "      <th>id</th>\n",
       "      <th>pesid</th>\n",
       "      <th>data_hora</th>\n",
       "      <th>data_inversa</th>\n",
       "      <th>dia_semana</th>\n",
       "      <th>horario</th>\n",
       "      <th>uf</th>\n",
       "      <th>br</th>\n",
       "      <th>km</th>\n",
       "      <th>municipio</th>\n",
       "      <th>...</th>\n",
       "      <th>sexo</th>\n",
       "      <th>ilesos</th>\n",
       "      <th>feridos_leves</th>\n",
       "      <th>feridos_graves</th>\n",
       "      <th>mortos</th>\n",
       "      <th>latitude</th>\n",
       "      <th>longitude</th>\n",
       "      <th>regional</th>\n",
       "      <th>delegacia</th>\n",
       "      <th>uop</th>\n",
       "    </tr>\n",
       "  </thead>\n",
       "  <tbody>\n",
       "    <tr>\n",
       "      <th>0</th>\n",
       "      <td>496506</td>\n",
       "      <td>1082142</td>\n",
       "      <td>2023-01-01 00:15:00+00:00</td>\n",
       "      <td>2023-01-01</td>\n",
       "      <td>6</td>\n",
       "      <td>00:15:00</td>\n",
       "      <td>MG</td>\n",
       "      <td>116.0</td>\n",
       "      <td>587.0</td>\n",
       "      <td>MANHUACU</td>\n",
       "      <td>...</td>\n",
       "      <td>Masculino</td>\n",
       "      <td>0</td>\n",
       "      <td>1</td>\n",
       "      <td>0</td>\n",
       "      <td>0</td>\n",
       "      <td>-20,24173903</td>\n",
       "      <td>-42,15868042</td>\n",
       "      <td>SPRF-MG</td>\n",
       "      <td>DEL06-MG</td>\n",
       "      <td>UOP03-DEL06-MG</td>\n",
       "    </tr>\n",
       "    <tr>\n",
       "      <th>1</th>\n",
       "      <td>496506</td>\n",
       "      <td>1082142</td>\n",
       "      <td>2023-01-01 00:15:00+00:00</td>\n",
       "      <td>2023-01-01</td>\n",
       "      <td>6</td>\n",
       "      <td>00:15:00</td>\n",
       "      <td>MG</td>\n",
       "      <td>116.0</td>\n",
       "      <td>587.0</td>\n",
       "      <td>MANHUACU</td>\n",
       "      <td>...</td>\n",
       "      <td>Masculino</td>\n",
       "      <td>0</td>\n",
       "      <td>1</td>\n",
       "      <td>0</td>\n",
       "      <td>0</td>\n",
       "      <td>-20,24173903</td>\n",
       "      <td>-42,15868042</td>\n",
       "      <td>SPRF-MG</td>\n",
       "      <td>DEL06-MG</td>\n",
       "      <td>UOP03-DEL06-MG</td>\n",
       "    </tr>\n",
       "    <tr>\n",
       "      <th>2</th>\n",
       "      <td>496506</td>\n",
       "      <td>1082142</td>\n",
       "      <td>2023-01-01 00:15:00+00:00</td>\n",
       "      <td>2023-01-01</td>\n",
       "      <td>6</td>\n",
       "      <td>00:15:00</td>\n",
       "      <td>MG</td>\n",
       "      <td>116.0</td>\n",
       "      <td>587.0</td>\n",
       "      <td>MANHUACU</td>\n",
       "      <td>...</td>\n",
       "      <td>Masculino</td>\n",
       "      <td>0</td>\n",
       "      <td>1</td>\n",
       "      <td>0</td>\n",
       "      <td>0</td>\n",
       "      <td>-20,24173903</td>\n",
       "      <td>-42,15868042</td>\n",
       "      <td>SPRF-MG</td>\n",
       "      <td>DEL06-MG</td>\n",
       "      <td>UOP03-DEL06-MG</td>\n",
       "    </tr>\n",
       "    <tr>\n",
       "      <th>3</th>\n",
       "      <td>496506</td>\n",
       "      <td>1082142</td>\n",
       "      <td>2023-01-01 00:15:00+00:00</td>\n",
       "      <td>2023-01-01</td>\n",
       "      <td>6</td>\n",
       "      <td>00:15:00</td>\n",
       "      <td>MG</td>\n",
       "      <td>116.0</td>\n",
       "      <td>587.0</td>\n",
       "      <td>MANHUACU</td>\n",
       "      <td>...</td>\n",
       "      <td>Masculino</td>\n",
       "      <td>0</td>\n",
       "      <td>1</td>\n",
       "      <td>0</td>\n",
       "      <td>0</td>\n",
       "      <td>-20,24173903</td>\n",
       "      <td>-42,15868042</td>\n",
       "      <td>SPRF-MG</td>\n",
       "      <td>DEL06-MG</td>\n",
       "      <td>UOP03-DEL06-MG</td>\n",
       "    </tr>\n",
       "    <tr>\n",
       "      <th>4</th>\n",
       "      <td>496507</td>\n",
       "      <td>1082138</td>\n",
       "      <td>2023-01-01 00:20:00+00:00</td>\n",
       "      <td>2023-01-01</td>\n",
       "      <td>6</td>\n",
       "      <td>00:20:00</td>\n",
       "      <td>MG</td>\n",
       "      <td>381.0</td>\n",
       "      <td>686.5</td>\n",
       "      <td>LAVRAS</td>\n",
       "      <td>...</td>\n",
       "      <td>Masculino</td>\n",
       "      <td>0</td>\n",
       "      <td>1</td>\n",
       "      <td>0</td>\n",
       "      <td>0</td>\n",
       "      <td>-21,17928973</td>\n",
       "      <td>-45,12256622</td>\n",
       "      <td>SPRF-MG</td>\n",
       "      <td>DEL04-MG</td>\n",
       "      <td>UOP02-DEL04-MG</td>\n",
       "    </tr>\n",
       "    <tr>\n",
       "      <th>...</th>\n",
       "      <td>...</td>\n",
       "      <td>...</td>\n",
       "      <td>...</td>\n",
       "      <td>...</td>\n",
       "      <td>...</td>\n",
       "      <td>...</td>\n",
       "      <td>...</td>\n",
       "      <td>...</td>\n",
       "      <td>...</td>\n",
       "      <td>...</td>\n",
       "      <td>...</td>\n",
       "      <td>...</td>\n",
       "      <td>...</td>\n",
       "      <td>...</td>\n",
       "      <td>...</td>\n",
       "      <td>...</td>\n",
       "      <td>...</td>\n",
       "      <td>...</td>\n",
       "      <td>...</td>\n",
       "      <td>...</td>\n",
       "      <td>...</td>\n",
       "    </tr>\n",
       "    <tr>\n",
       "      <th>514794</th>\n",
       "      <td>589495</td>\n",
       "      <td>1312506</td>\n",
       "      <td>2023-09-10 21:00:00+00:00</td>\n",
       "      <td>2023-09-10</td>\n",
       "      <td>6</td>\n",
       "      <td>21:00:00</td>\n",
       "      <td>SC</td>\n",
       "      <td>101.0</td>\n",
       "      <td>73.3</td>\n",
       "      <td>ARAQUARI</td>\n",
       "      <td>...</td>\n",
       "      <td>Masculino</td>\n",
       "      <td>1</td>\n",
       "      <td>0</td>\n",
       "      <td>0</td>\n",
       "      <td>0</td>\n",
       "      <td>-26,53567108</td>\n",
       "      <td>-48,71326731</td>\n",
       "      <td>SPRF-SC</td>\n",
       "      <td>DEL03-SC</td>\n",
       "      <td>UOP02-DEL03-SC</td>\n",
       "    </tr>\n",
       "    <tr>\n",
       "      <th>514795</th>\n",
       "      <td>589495</td>\n",
       "      <td>1312504</td>\n",
       "      <td>2023-09-10 21:00:00+00:00</td>\n",
       "      <td>2023-09-10</td>\n",
       "      <td>6</td>\n",
       "      <td>21:00:00</td>\n",
       "      <td>SC</td>\n",
       "      <td>101.0</td>\n",
       "      <td>73.3</td>\n",
       "      <td>ARAQUARI</td>\n",
       "      <td>...</td>\n",
       "      <td>Masculino</td>\n",
       "      <td>1</td>\n",
       "      <td>0</td>\n",
       "      <td>0</td>\n",
       "      <td>0</td>\n",
       "      <td>-26,53567108</td>\n",
       "      <td>-48,71326731</td>\n",
       "      <td>SPRF-SC</td>\n",
       "      <td>DEL03-SC</td>\n",
       "      <td>UOP02-DEL03-SC</td>\n",
       "    </tr>\n",
       "    <tr>\n",
       "      <th>514796</th>\n",
       "      <td>589495</td>\n",
       "      <td>1312503</td>\n",
       "      <td>2023-09-10 21:00:00+00:00</td>\n",
       "      <td>2023-09-10</td>\n",
       "      <td>6</td>\n",
       "      <td>21:00:00</td>\n",
       "      <td>SC</td>\n",
       "      <td>101.0</td>\n",
       "      <td>73.3</td>\n",
       "      <td>ARAQUARI</td>\n",
       "      <td>...</td>\n",
       "      <td>Masculino</td>\n",
       "      <td>1</td>\n",
       "      <td>0</td>\n",
       "      <td>0</td>\n",
       "      <td>0</td>\n",
       "      <td>-26,53567108</td>\n",
       "      <td>-48,71326731</td>\n",
       "      <td>SPRF-SC</td>\n",
       "      <td>DEL03-SC</td>\n",
       "      <td>UOP02-DEL03-SC</td>\n",
       "    </tr>\n",
       "    <tr>\n",
       "      <th>514797</th>\n",
       "      <td>589495</td>\n",
       "      <td>1312502</td>\n",
       "      <td>2023-09-10 21:00:00+00:00</td>\n",
       "      <td>2023-09-10</td>\n",
       "      <td>6</td>\n",
       "      <td>21:00:00</td>\n",
       "      <td>SC</td>\n",
       "      <td>101.0</td>\n",
       "      <td>73.3</td>\n",
       "      <td>ARAQUARI</td>\n",
       "      <td>...</td>\n",
       "      <td>Não Informado</td>\n",
       "      <td>0</td>\n",
       "      <td>0</td>\n",
       "      <td>0</td>\n",
       "      <td>0</td>\n",
       "      <td>-26,53567108</td>\n",
       "      <td>-48,71326731</td>\n",
       "      <td>SPRF-SC</td>\n",
       "      <td>DEL03-SC</td>\n",
       "      <td>UOP02-DEL03-SC</td>\n",
       "    </tr>\n",
       "    <tr>\n",
       "      <th>514798</th>\n",
       "      <td>589495</td>\n",
       "      <td>1312505</td>\n",
       "      <td>2023-09-10 21:00:00+00:00</td>\n",
       "      <td>2023-09-10</td>\n",
       "      <td>6</td>\n",
       "      <td>21:00:00</td>\n",
       "      <td>SC</td>\n",
       "      <td>101.0</td>\n",
       "      <td>73.3</td>\n",
       "      <td>ARAQUARI</td>\n",
       "      <td>...</td>\n",
       "      <td>Masculino</td>\n",
       "      <td>0</td>\n",
       "      <td>1</td>\n",
       "      <td>0</td>\n",
       "      <td>0</td>\n",
       "      <td>-26,53567108</td>\n",
       "      <td>-48,71326731</td>\n",
       "      <td>SPRF-SC</td>\n",
       "      <td>DEL03-SC</td>\n",
       "      <td>UOP02-DEL03-SC</td>\n",
       "    </tr>\n",
       "  </tbody>\n",
       "</table>\n",
       "<p>514799 rows × 38 columns</p>\n",
       "</div>"
      ]
     },
     "execution_count": 36,
     "metadata": {},
     "output_type": "execute_result"
    }
   ],
   "execution_count": 36
  },
  {
   "metadata": {
    "ExecuteTime": {
     "end_time": "2024-06-29T19:56:50.908042Z",
     "start_time": "2024-06-29T19:56:49.730399Z"
    }
   },
   "cell_type": "code",
   "source": [
    "print(data.isnull().sum())\n",
    "data = data.dropna()\n",
    "print(data.isnull().sum())"
   ],
   "id": "ddbf11430965ba16",
   "outputs": [
    {
     "name": "stdout",
     "output_type": "stream",
     "text": [
      "id                            0\n",
      "pesid                         0\n",
      "data_hora                     0\n",
      "data_inversa                  0\n",
      "dia_semana                    0\n",
      "horario                       0\n",
      "uf                            0\n",
      "br                         1762\n",
      "km                         1762\n",
      "municipio                     0\n",
      "causa_principal               0\n",
      "causa_acidente                0\n",
      "ordem_tipo_acidente           0\n",
      "tipo_acidente                 0\n",
      "classificacao_acidente        0\n",
      "fase_dia                      0\n",
      "sentido_via                   0\n",
      "condicao_metereologica        0\n",
      "tipo_pista                    0\n",
      "tracado_via                   0\n",
      "uso_solo                      0\n",
      "id_veiculo                    0\n",
      "tipo_veiculo                  0\n",
      "marca                     21014\n",
      "ano_fabricacao_veiculo    27439\n",
      "tipo_envolvido                0\n",
      "estado_fisico                 0\n",
      "idade                     49369\n",
      "sexo                          0\n",
      "ilesos                        0\n",
      "feridos_leves                 0\n",
      "feridos_graves                0\n",
      "mortos                        0\n",
      "latitude                      0\n",
      "longitude                     0\n",
      "regional                     28\n",
      "delegacia                   393\n",
      "uop                         491\n",
      "dtype: int64\n",
      "id                        0\n",
      "pesid                     0\n",
      "data_hora                 0\n",
      "data_inversa              0\n",
      "dia_semana                0\n",
      "horario                   0\n",
      "uf                        0\n",
      "br                        0\n",
      "km                        0\n",
      "municipio                 0\n",
      "causa_principal           0\n",
      "causa_acidente            0\n",
      "ordem_tipo_acidente       0\n",
      "tipo_acidente             0\n",
      "classificacao_acidente    0\n",
      "fase_dia                  0\n",
      "sentido_via               0\n",
      "condicao_metereologica    0\n",
      "tipo_pista                0\n",
      "tracado_via               0\n",
      "uso_solo                  0\n",
      "id_veiculo                0\n",
      "tipo_veiculo              0\n",
      "marca                     0\n",
      "ano_fabricacao_veiculo    0\n",
      "tipo_envolvido            0\n",
      "estado_fisico             0\n",
      "idade                     0\n",
      "sexo                      0\n",
      "ilesos                    0\n",
      "feridos_leves             0\n",
      "feridos_graves            0\n",
      "mortos                    0\n",
      "latitude                  0\n",
      "longitude                 0\n",
      "regional                  0\n",
      "delegacia                 0\n",
      "uop                       0\n",
      "dtype: int64\n"
     ]
    }
   ],
   "execution_count": 37
  },
  {
   "metadata": {
    "ExecuteTime": {
     "end_time": "2024-06-29T19:56:50.911269Z",
     "start_time": "2024-06-29T19:56:50.909092Z"
    }
   },
   "cell_type": "code",
   "source": [
    "if should_run('SQLite - Clean data'):\n",
    "    snapshot('clean_2023_data')"
   ],
   "id": "e0b8b1f59606eb58",
   "outputs": [],
   "execution_count": 38
  },
  {
   "metadata": {},
   "cell_type": "markdown",
   "source": "# Análise de Dados",
   "id": "5323dbbc440439f8"
  },
  {
   "metadata": {
    "ExecuteTime": {
     "end_time": "2024-06-29T19:56:51.235147Z",
     "start_time": "2024-06-29T19:56:50.912149Z"
    }
   },
   "cell_type": "code",
   "source": [
    "import seaborn\n",
    "discrete_columns = [\n",
    "    'data_hora', 'data_inversa', 'dia_semana', 'horario', 'uf', 'br', 'km', 'municipio', 'causa_principal', 'causa_acidente', 'ordem_tipo_acidente', 'tipo_acidente', 'classificacao_acidente', 'fase_dia', 'sentido_via', 'condicao_metereologica', 'tipo_pista', 'tracado_via', 'uso_solo', 'tipo_veiculo', 'marca', 'ano_fabricacao_veiculo', 'tipo_envolvido', 'estado_fisico', 'idade', 'sexo', 'ilesos', 'feridos_leves', 'feridos_graves', 'mortos']\n",
    "\n",
    "colunas_interesse = ['data_hora', 'horario', 'br', 'km', 'causa_acidente', 'tipo_acidente', 'fase_dia', 'sentido_via', 'condicao_metereologica', 'tipo_pista', 'tracado_via', 'tipo_veiculo', 'ano_fabricacao_veiculo', 'tipo_envolvido', 'idade', 'sexo']\n",
    "\n",
    "for column in data[colunas_interesse].columns:\n",
    "    unique = data[column].unique()\n",
    "    unique_len = len(unique)\n",
    "\n",
    "    if unique_len > 50:\n",
    "        print(column, unique_len)\n",
    "        continue\n",
    "\n",
    "    print(column, unique_len, unique)\n",
    "\n",
    "# data[discrete_columns].describe()"
   ],
   "id": "23230bacee3a806b",
   "outputs": [
    {
     "name": "stdout",
     "output_type": "stream",
     "text": [
      "data_hora 43867\n",
      "horario 1391\n",
      "br 116\n",
      "km 7548\n",
      "causa_acidente 76\n",
      "tipo_acidente 16 <StringArray>\n",
      "[  'Queda de ocupante de veículo',                     'Tombamento',\n",
      "                    'Capotamento',      'Saída de leito carroçável',\n",
      "             'Colisão com objeto',               'Colisão traseira',\n",
      "      'Atropelamento de Pedestre',            'Colisão transversal',\n",
      "        'Atropelamento de Animal',                'Colisão frontal',\n",
      "  'Colisão lateral mesmo sentido', 'Colisão lateral sentido oposto',\n",
      "          'Derramamento de carga',                  'Engavetamento',\n",
      "                       'Incêndio',               'Eventos atípicos']\n",
      "Length: 16, dtype: string\n",
      "fase_dia 4 <StringArray>\n",
      "['Plena Noite', 'Pleno dia', 'Amanhecer', 'Anoitecer']\n",
      "Length: 4, dtype: string\n",
      "sentido_via 2 <StringArray>\n",
      "['Crescente', 'Decrescente']\n",
      "Length: 2, dtype: string\n",
      "condicao_metereologica 10 <StringArray>\n",
      "[         'Nublado',   'Garoa/Chuvisco',        'Céu Claro',\n",
      "            'Chuva', 'Nevoeiro/Neblina',         'Ignorado',\n",
      "              'Sol',            'Vento',          'Granizo',\n",
      "             'Neve']\n",
      "Length: 10, dtype: string\n",
      "tipo_pista 3 <StringArray>\n",
      "['Simples', 'Dupla', 'Múltipla']\n",
      "Length: 3, dtype: string\n",
      "tracado_via 268\n",
      "tipo_veiculo 19 <StringArray>\n",
      "[      'Motocicleta',         'Automóvel',          'Motoneta',\n",
      "          'Caminhão',     'Não se aplica',       'Caminhonete',\n",
      "   'Caminhão-trator',            'Ônibus',        'Utilitário',\n",
      "     'Não Informado',      'Micro-ônibus',        'Ciclomotor',\n",
      "          'Triciclo',       'Semireboque',         'Bicicleta',\n",
      " 'Chassi-plataforma',           'Reboque',   'Trator de rodas',\n",
      "            'Outros']\n",
      "Length: 19, dtype: string\n",
      "ano_fabricacao_veiculo 68\n",
      "tipo_envolvido 4 <StringArray>\n",
      "['Condutor', 'Passageiro', 'Pedestre', 'Cavaleiro']\n",
      "Length: 4, dtype: string\n",
      "idade 117\n",
      "sexo 3 <StringArray>\n",
      "['Masculino', 'Feminino', 'Ignorado']\n",
      "Length: 3, dtype: string\n"
     ]
    }
   ],
   "execution_count": 39
  },
  {
   "metadata": {
    "ExecuteTime": {
     "end_time": "2024-06-29T19:56:51.260322Z",
     "start_time": "2024-06-29T19:56:51.235938Z"
    }
   },
   "cell_type": "code",
   "source": [
    "bins = pandas.qcut(data['idade'],4)\n",
    "bins.value_counts(sort=False)"
   ],
   "id": "8d78f4bd0adf3d6f",
   "outputs": [
    {
     "data": {
      "text/plain": [
       "idade\n",
       "(-0.001, 27.0]    114049\n",
       "(27.0, 38.0]      120734\n",
       "(38.0, 49.0]      107186\n",
       "(49.0, 2022.0]    109643\n",
       "Name: count, dtype: int64"
      ]
     },
     "execution_count": 40,
     "metadata": {},
     "output_type": "execute_result"
    }
   ],
   "execution_count": 40
  },
  {
   "metadata": {
    "ExecuteTime": {
     "end_time": "2024-06-29T19:56:51.307270Z",
     "start_time": "2024-06-29T19:56:51.261196Z"
    }
   },
   "cell_type": "code",
   "source": "data['estado_fisico'].info()",
   "id": "4b80bf3a5c3c4411",
   "outputs": [
    {
     "name": "stdout",
     "output_type": "stream",
     "text": [
      "<class 'pandas.core.series.Series'>\n",
      "Index: 451612 entries, 0 to 514798\n",
      "Series name: estado_fisico\n",
      "Non-Null Count   Dtype \n",
      "--------------   ----- \n",
      "451612 non-null  string\n",
      "dtypes: string(1)\n",
      "memory usage: 6.9 MB\n"
     ]
    }
   ],
   "execution_count": 41
  },
  {
   "metadata": {},
   "cell_type": "markdown",
   "source": "# Model Decision Tree",
   "id": "edcff643f1c220cb"
  },
  {
   "metadata": {
    "ExecuteTime": {
     "end_time": "2024-06-29T19:56:52.073172Z",
     "start_time": "2024-06-29T19:56:51.308091Z"
    }
   },
   "cell_type": "code",
   "source": [
    "colunas_interesse = [\n",
    "    #'data_hora',\n",
    "    'horario', 'br', 'km', 'causa_acidente', 'tipo_acidente', 'fase_dia', 'sentido_via', 'condicao_metereologica', 'tipo_pista', 'tracado_via', 'tipo_veiculo', 'ano_fabricacao_veiculo', 'tipo_envolvido', 'idade', 'sexo', 'estado_fisico',\n",
    "]\n",
    "data_interesse = data[colunas_interesse]\n",
    "\n",
    " \n",
    "from sklearn.preprocessing import LabelEncoder\n",
    "# Convert categorical variables to numerical values\n",
    "le = LabelEncoder()\n",
    "\n",
    "data_interesse_le = data_interesse[['br', 'km', 'ano_fabricacao_veiculo', 'idade', 'estado_fisico']]\n",
    "\n",
    "string_to_le = ['causa_acidente', 'tipo_acidente', 'fase_dia', 'sentido_via', 'condicao_metereologica', 'tipo_pista', 'tipo_veiculo', 'tipo_envolvido', 'sexo']\n",
    "for data_column in data_interesse[string_to_le]:\n",
    "    data_interesse_le[data_column] = le.fit_transform(data_interesse[data_column])\n"
   ],
   "id": "6c96397f13de9ee6",
   "outputs": [
    {
     "name": "stderr",
     "output_type": "stream",
     "text": [
      "/tmp/ipykernel_42337/93653000.py:16: SettingWithCopyWarning: \n",
      "A value is trying to be set on a copy of a slice from a DataFrame.\n",
      "Try using .loc[row_indexer,col_indexer] = value instead\n",
      "\n",
      "See the caveats in the documentation: https://pandas.pydata.org/pandas-docs/stable/user_guide/indexing.html#returning-a-view-versus-a-copy\n",
      "  data_interesse_le[data_column] = le.fit_transform(data_interesse[data_column])\n",
      "/tmp/ipykernel_42337/93653000.py:16: SettingWithCopyWarning: \n",
      "A value is trying to be set on a copy of a slice from a DataFrame.\n",
      "Try using .loc[row_indexer,col_indexer] = value instead\n",
      "\n",
      "See the caveats in the documentation: https://pandas.pydata.org/pandas-docs/stable/user_guide/indexing.html#returning-a-view-versus-a-copy\n",
      "  data_interesse_le[data_column] = le.fit_transform(data_interesse[data_column])\n",
      "/tmp/ipykernel_42337/93653000.py:16: SettingWithCopyWarning: \n",
      "A value is trying to be set on a copy of a slice from a DataFrame.\n",
      "Try using .loc[row_indexer,col_indexer] = value instead\n",
      "\n",
      "See the caveats in the documentation: https://pandas.pydata.org/pandas-docs/stable/user_guide/indexing.html#returning-a-view-versus-a-copy\n",
      "  data_interesse_le[data_column] = le.fit_transform(data_interesse[data_column])\n",
      "/tmp/ipykernel_42337/93653000.py:16: SettingWithCopyWarning: \n",
      "A value is trying to be set on a copy of a slice from a DataFrame.\n",
      "Try using .loc[row_indexer,col_indexer] = value instead\n",
      "\n",
      "See the caveats in the documentation: https://pandas.pydata.org/pandas-docs/stable/user_guide/indexing.html#returning-a-view-versus-a-copy\n",
      "  data_interesse_le[data_column] = le.fit_transform(data_interesse[data_column])\n",
      "/tmp/ipykernel_42337/93653000.py:16: SettingWithCopyWarning: \n",
      "A value is trying to be set on a copy of a slice from a DataFrame.\n",
      "Try using .loc[row_indexer,col_indexer] = value instead\n",
      "\n",
      "See the caveats in the documentation: https://pandas.pydata.org/pandas-docs/stable/user_guide/indexing.html#returning-a-view-versus-a-copy\n",
      "  data_interesse_le[data_column] = le.fit_transform(data_interesse[data_column])\n",
      "/tmp/ipykernel_42337/93653000.py:16: SettingWithCopyWarning: \n",
      "A value is trying to be set on a copy of a slice from a DataFrame.\n",
      "Try using .loc[row_indexer,col_indexer] = value instead\n",
      "\n",
      "See the caveats in the documentation: https://pandas.pydata.org/pandas-docs/stable/user_guide/indexing.html#returning-a-view-versus-a-copy\n",
      "  data_interesse_le[data_column] = le.fit_transform(data_interesse[data_column])\n",
      "/tmp/ipykernel_42337/93653000.py:16: SettingWithCopyWarning: \n",
      "A value is trying to be set on a copy of a slice from a DataFrame.\n",
      "Try using .loc[row_indexer,col_indexer] = value instead\n",
      "\n",
      "See the caveats in the documentation: https://pandas.pydata.org/pandas-docs/stable/user_guide/indexing.html#returning-a-view-versus-a-copy\n",
      "  data_interesse_le[data_column] = le.fit_transform(data_interesse[data_column])\n",
      "/tmp/ipykernel_42337/93653000.py:16: SettingWithCopyWarning: \n",
      "A value is trying to be set on a copy of a slice from a DataFrame.\n",
      "Try using .loc[row_indexer,col_indexer] = value instead\n",
      "\n",
      "See the caveats in the documentation: https://pandas.pydata.org/pandas-docs/stable/user_guide/indexing.html#returning-a-view-versus-a-copy\n",
      "  data_interesse_le[data_column] = le.fit_transform(data_interesse[data_column])\n",
      "/tmp/ipykernel_42337/93653000.py:16: SettingWithCopyWarning: \n",
      "A value is trying to be set on a copy of a slice from a DataFrame.\n",
      "Try using .loc[row_indexer,col_indexer] = value instead\n",
      "\n",
      "See the caveats in the documentation: https://pandas.pydata.org/pandas-docs/stable/user_guide/indexing.html#returning-a-view-versus-a-copy\n",
      "  data_interesse_le[data_column] = le.fit_transform(data_interesse[data_column])\n"
     ]
    }
   ],
   "execution_count": 42
  },
  {
   "metadata": {
    "ExecuteTime": {
     "end_time": "2024-06-29T23:37:50.814851Z",
     "start_time": "2024-06-29T23:36:59.432032Z"
    }
   },
   "cell_type": "code",
   "source": [
    "from sklearn.tree import DecisionTreeClassifier\n",
    "\n",
    "features = ['br', 'km', 'fase_dia', 'sentido_via', 'condicao_metereologica', 'tipo_pista', 'tipo_veiculo', 'ano_fabricacao_veiculo', 'tipo_envolvido', 'idade', 'sexo']\n",
    "# limit = 100000\n",
    "\n",
    "def test_decision_tree(features_list: [str]):\n",
    "    x = data_interesse_le[features_list]#[:limit]\n",
    "    y = data_interesse_le['estado_fisico']#[:limit]\n",
    "\n",
    "    x_train, x_test, y_train, y_test = train_test_split(x, y, test_size=0.3)\n",
    "    clf = DecisionTreeClassifier(max_depth=30) # Create a decision tree classifier object\n",
    "    clf = clf.fit(x_train, y_train) # Train the classifier using the training data\n",
    "    y_pred = clf.predict(x_test) # Predict the labels of the test data\n",
    "    \n",
    "    # print(\"features:\", features_list)\n",
    "    # print(\"Accuracy:\", accuracy_score(y_test, y_pred))\n",
    "    # print({\n",
    "    #     'accuracy': accuracy_score(y_test, y_pred),\n",
    "    #     'precision': precision_score(y_test, y_pred, average='macro'),\n",
    "    #     'recall': recall_score(y_test, y_pred, average='macro'),\n",
    "    #     'f1_score': f1_score(y_test, y_pred, average='macro')\n",
    "    # })\n",
    "    print(f\"{accuracy_score(y_test, y_pred)};{precision_score(y_test, y_pred, average='macro')};{recall_score(y_test, y_pred, average='macro')};{f1_score(y_test, y_pred, average='macro')}\".replace('.', ','))\n",
    "    print(\"\")\n",
    "\n",
    "for i in range(len(features)):\n",
    "    print(f\"without {features[i]}\")\n",
    "    if i == 0:\n",
    "        test_decision_tree(features[1:len(features)])\n",
    "    elif i == len(features) - 1:\n",
    "        test_decision_tree(features[:len(features)-1])\n",
    "    else:\n",
    "        test_decision_tree(features[0:i] + features[i+1: len(features)])\n",
    "\n",
    "test_decision_tree(features)\n",
    "\n",
    "# text_representation = tree.export_text(clf, max_depth=30)\n",
    "# print(text_representation)\n",
    "\n",
    "# import matplotlib.pyplot as plt\n",
    "# from sklearn import tree\n",
    "# \n",
    "# #Configure the figure size\n",
    "# plt.figure(figsize=(20, 10), dpi=100)\n",
    "# \n",
    "# # Plot the decision tree\n",
    "# tree.plot_tree(clf, filled=True, feature_names=features, class_names=['Ileso', 'Lesões Leves', 'Lesões Graves', 'Óbito', 'Não Informado'], max_depth=3)\n",
    "# \n",
    "# # Save the figure as a high-definition image\n",
    "# plt.savefig('decision_tree.png', dpi=1000)"
   ],
   "id": "cd606730b4f7a7b7",
   "outputs": [
    {
     "name": "stdout",
     "output_type": "stream",
     "text": [
      "without br\n",
      "0,8966298603525139;0,8817742790355678;0,8935714005655349;0,8875070868874315\n",
      "\n",
      "without km\n",
      "0,8978920020076171;0,8808011833569316;0,8934379600512091;0,8869525761095578\n",
      "\n",
      "without fase_dia\n",
      "0,8964970033361873;0,8824542803042664;0,8872456521110748;0,8848181856942926\n",
      "\n",
      "without sentido_via\n",
      "0,9015677127926545;0,8861611911713908;0,896746098923802;0,8913353586416092\n",
      "\n",
      "without condicao_metereologica\n",
      "0,90214342653007;0,8883788802171332;0,8972202466842282;0,8927073755014588\n",
      "\n",
      "without tipo_pista\n",
      "0,8976041451389094;0,8834626068823243;0,8906306225295395;0,8869675747770867\n",
      "\n",
      "without tipo_veiculo\n",
      "0,876037022821883;0,8664807966622586;0,8732798867120739;0,8697971126223912\n",
      "\n",
      "without ano_fabricacao_veiculo\n",
      "0,8979289067343745;0,8882842145990413;0,8894897986713453;0,8888587448292214\n",
      "\n",
      "without tipo_envolvido\n",
      "0,8967110507513802;0,8828205120624726;0,8919698056300909;0,8872427425827721\n",
      "\n",
      "without idade\n",
      "0,8733429777685926;0,8573633378159218;0,8533224237225367;0,8553044140395286\n",
      "\n",
      "without sexo\n",
      "0,9032874730595495;0,8906421931014491;0,8992411789784436;0,8948577540461425\n",
      "\n",
      "0,9022393788196392;0,8887336767022169;0,8966847053660096;0,8926282664749815\n",
      "\n"
     ]
    }
   ],
   "execution_count": 223
  },
  {
   "metadata": {},
   "cell_type": "markdown",
   "source": "# Model Naive bayes",
   "id": "1bc7fef5b7e911de"
  },
  {
   "metadata": {
    "ExecuteTime": {
     "end_time": "2024-06-29T23:58:36.546298Z",
     "start_time": "2024-06-29T23:58:05.294621Z"
    }
   },
   "cell_type": "code",
   "source": [
    "from sklearn.model_selection import train_test_split\n",
    "from sklearn.naive_bayes import GaussianNB\n",
    "from sklearn.metrics import accuracy_score, precision_score, recall_score, f1_score\n",
    "\n",
    "features = ['br', 'km', 'fase_dia','causa_acidente', 'tipo_acidente', 'sentido_via', 'condicao_metereologica', 'tipo_pista', 'tipo_veiculo', 'ano_fabricacao_veiculo', 'tipo_envolvido', 'idade', 'sexo']\n",
    "\n",
    "def test_naive_bayes(features_list: [str]):\n",
    "    x = data_interesse_le[features_list]\n",
    "    y = data_interesse_le['estado_fisico']\n",
    "\n",
    "    x_train, x_test, y_train, y_test = train_test_split(x, y, test_size=0.3)\n",
    "\n",
    "    gnb = GaussianNB().fit(x_train, y_train)    \n",
    "    y_pred = gnb.predict(x_test)\n",
    "\n",
    "    print(f\"{accuracy_score(y_test, y_pred)};{precision_score(y_test, y_pred, average='macro')};{recall_score(y_test, y_pred, average='macro')};{f1_score(y_test, y_pred, average='macro')}\".replace('.', ','))\n",
    "    print(\"\")\n",
    "\n",
    "\n",
    "for i in range(len(features)):\n",
    "    print(f\"without {features[i]}\")\n",
    "    if i == 0:\n",
    "        test_naive_bayes(features[1:len(features)])\n",
    "    elif i == len(features) - 1:\n",
    "        test_naive_bayes(features[:len(features)-1])\n",
    "    else:\n",
    "        test_naive_bayes(features[0:i] + features[i+1: len(features)])\n",
    "\n",
    "test_naive_bayes(features)\n"
   ],
   "id": "def56109d90e651c",
   "outputs": [
    {
     "name": "stdout",
     "output_type": "stream",
     "text": [
      "without br\n",
      "0,4563121844645862;0,41654155823721595;0,2669174910395062;0,1885214705725365\n",
      "\n",
      "without km\n",
      "0,4546440908151516;0,41450813298112865;0,26708500194053525;0,18781842579766808\n",
      "\n",
      "without fase_dia\n",
      "0,45603908948658145;0,41783147308892066;0,2668832881358532;0,18878828023204908\n",
      "\n",
      "without causa_acidente\n",
      "0,4538690915532461;0,4249979657256962;0,2669357022086395;0,18782795962039744\n",
      "\n",
      "without tipo_acidente\n",
      "0,4540240914056272;0,4353774207764459;0,2654240158401467;0,18642958972722784\n",
      "\n",
      "without sentido_via\n",
      "0,4543340911103894;0,4450924905724916;0,2657351506502281;0,18654501397593776\n",
      "\n",
      "without condicao_metereologica\n",
      "0,4547548049954238;0,4046028258110403;0,2669780680307486;0,19096319584035915\n",
      "\n",
      "without tipo_pista\n",
      "0,45459242419769125;0,416621419511076;0,2667629157978167;0,18746859924746492\n",
      "\n",
      "without tipo_veiculo\n",
      "0,4547548049954238;0,41636011387029837;0,26650225429179975;0,18641332903762595\n",
      "\n",
      "without ano_fabricacao_veiculo\n",
      "0,4708969324791119;0,3824633410699302;0,2807279877870677;0,24231908489833942\n",
      "\n",
      "without tipo_envolvido\n",
      "0,4527398069144696;0,4217447742839999;0,266345428001807;0,18414064915766773\n",
      "\n",
      "without idade\n",
      "0,45574385167252224;0,39043124105391125;0,2669849441014879;0,18494607568436378\n",
      "\n",
      "without sexo\n",
      "0,45558885182014114;0,4072635700751525;0,2664181700582063;0,18646718933958362\n",
      "\n",
      "0,45439313867320125;0,41417524033230785;0,2675877547628508;0,19011320631211026\n",
      "\n"
     ]
    }
   ],
   "execution_count": 225
  },
  {
   "metadata": {
    "ExecuteTime": {
     "end_time": "2024-06-30T01:14:46.528435Z",
     "start_time": "2024-06-30T01:12:21.605787Z"
    }
   },
   "cell_type": "code",
   "source": [
    "from sklearn.neighbors import KNeighborsClassifier\n",
    "\n",
    "features = ['br', 'km', 'sentido_via', 'condicao_metereologica', 'tipo_pista', 'tipo_veiculo', 'ano_fabricacao_veiculo', 'tipo_envolvido', 'idade', 'sexo']\n",
    "\n",
    "def test_knn(features_list: [str]):\n",
    "    x = data_interesse_le[features_list]\n",
    "    y = data_interesse_le['estado_fisico']\n",
    "    \n",
    "    x_train, x_test, y_train, y_test = train_test_split(x, y, test_size=0.3)\n",
    "\n",
    "    knn = KNeighborsClassifier(n_neighbors=1, algorithm='auto').fit(x_train, y_train)\n",
    "    y_pred = knn.predict(x_test)\n",
    "\n",
    "    print(f\"{accuracy_score(y_test, y_pred)};{precision_score(y_test, y_pred, average='macro')};{recall_score(y_test, y_pred, average='macro')};{f1_score(y_test, y_pred, average='macro')}\".replace('.', ','))\n",
    "    print(\"\")\n",
    "\n",
    "for i in range(len(features)):\n",
    "    print(f\"without {features[i]}\")\n",
    "    if i == 0:\n",
    "        test_knn(features[1:len(features)])\n",
    "    elif i == len(features) - 1:\n",
    "        test_knn(features[:len(features)-1])\n",
    "    else:\n",
    "        test_knn(features[0:i] + features[i+1: len(features)])\n",
    "\n",
    "test_knn(features)\n",
    "\n",
    "# metrics = {\n",
    "#     'kNN': {\n",
    "#         'accuracy': accuracy_score(y_test, y_pred_knn),\n",
    "#         # 'precision': precision_score(y_test, y_pred_knn, average='macro'),\n",
    "#         # 'recall': recall_score(y_test, y_pred_knn, average='macro'),\n",
    "#         # 'f1_score': f1_score(y_test, y_pred_knn, average='macro')\n",
    "#     },\n",
    "#     # 'SVM': {\n",
    "#     #     'accuracy': accuracy_score(y_test, y_pred_svm),\n",
    "#     #     # 'precision': precision_score(y_test, y_pred_svm, average='macro'),\n",
    "#     #     # 'recall': recall_score(y_test, y_pred_svm, average='macro'),\n",
    "#     #     # 'f1_score': f1_score(y_test, y_pred_svm, average='macro')\n",
    "#     # }\n",
    "# }\n",
    "# print(metrics)\n"
   ],
   "id": "3f1f73a0c50fa4db",
   "outputs": [
    {
     "name": "stdout",
     "output_type": "stream",
     "text": [
      "without br\n",
      "0,9056936612441322;0,8929665604465888;0,9046912327310996;0,8986755491302927\n",
      "\n",
      "without km\n",
      "0,8933379587257536;0,8795907081750391;0,8898862629568614;0,8846252811730392\n",
      "\n",
      "without sentido_via\n",
      "0,9083581825160166;0,9012686532593571;0,9073114949105466;0,9042523026084669\n",
      "\n",
      "without condicao_metereologica\n",
      "0,9092955625756547;0,9001600904300741;0,9084998340537614;0,9042359484390906\n",
      "\n",
      "without tipo_pista\n",
      "0,9071772312597798;0,899098317543478;0,9061375742881816;0,9025636367412472\n",
      "\n",
      "without tipo_veiculo\n",
      "0,8962608130849399;0,8914369116950105;0,8995110415985835;0,8954088002315603\n",
      "\n",
      "without ano_fabricacao_veiculo\n",
      "0,9068819934457205;0,8995200621099685;0,9032287748383128;0,9013536749357596\n",
      "\n",
      "without tipo_envolvido\n",
      "0,9067269935933394;0,8993156883518244;0,9053870208163439;0,9023075585272496\n",
      "\n",
      "without idade\n",
      "0,8851082046588528;0,8716832449278551;0,8739435934487172;0,8728069280154116\n",
      "\n",
      "without sexo\n",
      "0,9074134215110271;0,9001069009888338;0,9060530700888854;0,9030390994243768\n",
      "\n",
      "0,9094136577012784;0,901932518474354;0,9093936708622972;0,9056060669263721\n",
      "\n"
     ]
    }
   ],
   "execution_count": 231
  },
  {
   "metadata": {},
   "cell_type": "markdown",
   "source": "# APRIORI - Regra de associação",
   "id": "7fa732add10a4a9e"
  },
  {
   "metadata": {
    "ExecuteTime": {
     "end_time": "2024-06-29T19:57:08.258883Z",
     "start_time": "2024-06-29T19:57:08.247469Z"
    }
   },
   "cell_type": "code",
   "source": [
    "features = ['br', 'km', 'causa_acidente', 'tipo_acidente', 'fase_dia', 'sentido_via', 'condicao_metereologica', 'tipo_pista', 'tipo_veiculo', 'ano_fabricacao_veiculo', 'tipo_envolvido', 'idade', 'sexo']\n",
    "\n",
    "X = data_interesse_le[features]#[:limit]\n",
    "y = data_interesse_le['estado_fisico']#[:limit]\n"
   ],
   "id": "30f93874e0f5e084",
   "outputs": [],
   "execution_count": 46
  },
  {
   "metadata": {
    "ExecuteTime": {
     "end_time": "2024-06-29T21:32:01.913399Z",
     "start_time": "2024-06-29T21:31:52.985045Z"
    }
   },
   "cell_type": "code",
   "source": [
    "class Column:\n",
    "    def __init__(self, column: str, value: str, index: int):\n",
    "        self.column = column\n",
    "        self.value = value\n",
    "        self.index = index\n",
    "    \n",
    "    def __str__(self):\n",
    "        return f'{self.column}:{self.value}'\n",
    "\n",
    "rows_apriori = [None] * len(data)\n",
    "\n",
    "for column in data[features]:\n",
    "    for index, value in enumerate(data[column]):\n",
    "        if not rows_apriori[index]:\n",
    "            rows_apriori[index] = []\n",
    "        rows_apriori[index].append(Column(column, value, index))"
   ],
   "id": "4d89bf1cdf30780",
   "outputs": [],
   "execution_count": 142
  },
  {
   "metadata": {
    "ExecuteTime": {
     "end_time": "2024-06-29T21:45:46.388418Z",
     "start_time": "2024-06-29T21:45:46.382195Z"
    }
   },
   "cell_type": "code",
   "source": [
    "import hashlib\n",
    "\n",
    "associations_hash_value = {}\n",
    "\n",
    "class ItemSet:\n",
    "    def __init__(self, pre: [Column], pos: [Column], regra: [Column]):\n",
    "        self.pre = pre\n",
    "        self.pos = pos\n",
    "        self.regra = regra\n",
    "\n",
    "        self.suporte_pre = None\n",
    "        self.suporte_pos = None\n",
    "        self.suporte_regra = None\n",
    "\n",
    "        self.confiaca = None\n",
    "        self.lift = None\n",
    "    \n",
    "    def __str__(self):\n",
    "        return f\"{[str(x) for x in self.pre]} -> {[str(x) for x in self.pos]}, sup_pre:{self.suporte_pre * 100}%,  sup_pos:{self.suporte_pos * 100}%,  sup_regra:{self.suporte_regra * 100}%, conf:{self.confiaca * 100}%, lift:{self.lift}\"\n",
    "\n",
    "    def to_csv(self):\n",
    "        return f\"{[str(x) for x in self.pre]}, {[str(x) for x in self.pos]}, {self.suporte_pre}, {self.suporte_pos}, {self.suporte_regra}, {self.confiaca}, {self.lift}\"\n",
    "\n",
    "def sha3(value: any) -> str:\n",
    "    return hashlib.sha3_224(str(value).encode()).hexdigest()\n",
    "\n",
    "def generate_item_set(row: [Column], index):\n",
    "    try:\n",
    "        target = Column('estado_fisico', data['estado_fisico'][index], -1)\n",
    "    except:\n",
    "        return\n",
    "    for column in row:\n",
    "        regra = [column, target]\n",
    "        key = sha3([x.value for x in regra])\n",
    "\n",
    "        try :\n",
    "            if associations_hash_value[key]:\n",
    "                continue\n",
    "        except:\n",
    "            associations_hash_value[key] = ItemSet(pre=[column], pos=[target], regra=regra)\n",
    "\n"
   ],
   "id": "4157236a98eeadea",
   "outputs": [],
   "execution_count": 166
  },
  {
   "metadata": {
    "ExecuteTime": {
     "end_time": "2024-06-29T21:46:02.174619Z",
     "start_time": "2024-06-29T21:45:49.533433Z"
    }
   },
   "cell_type": "code",
   "source": [
    "for index, row in enumerate(rows_apriori):\n",
    "    generate_item_set(row, index)\n",
    "\n",
    "associations: [ItemSet] = list(associations_hash_value.values())"
   ],
   "id": "c7a9ea3da67d702a",
   "outputs": [],
   "execution_count": 167
  },
  {
   "metadata": {
    "ExecuteTime": {
     "end_time": "2024-06-29T21:46:07.369003Z",
     "start_time": "2024-06-29T21:46:04.615609Z"
    }
   },
   "cell_type": "code",
   "source": [
    "calculated_associoation_ocorrences = {}\n",
    "for row in rows_apriori:\n",
    "    for column in row:\n",
    "        key = f\"{column.column}#{column.value}\"\n",
    "        try:\n",
    "            calculated_associoation_ocorrences[key] += 1 \n",
    "        except:\n",
    "            calculated_associoation_ocorrences[key] = 1\n",
    "\n",
    "for column in data['estado_fisico']:\n",
    "    key = f\"estado_fisico#{column}\"\n",
    "    try:\n",
    "        calculated_associoation_ocorrences[key] += 1 \n",
    "    except:\n",
    "        calculated_associoation_ocorrences[key] = 1\n",
    "\n",
    "def calculate_ocorrences(items: [ItemSet]) -> float:\n",
    "    key = f\"{items[0].column}#{items[0].value}\"\n",
    "\n",
    "    return calculated_associoation_ocorrences[key] / len(rows_apriori)\n",
    "\n",
    "def calc_suporte(item: ItemSet):\n",
    "    item.suporte_pre = round(calculate_ocorrences(item.pre), 6)\n",
    "    item.suporte_pos = round(calculate_ocorrences(item.pos), 6)\n",
    "    item.suporte_regra = round(calculate_ocorrences(item.regra), 6)\n",
    "    \n",
    "    item.confiaca = round(item.suporte_regra / item.suporte_pre, 6)\n",
    "    item.lift = round(item.confiaca / item.suporte_pos, 6)\n",
    "\n",
    "for assoc in associations:\n",
    "    calc_suporte(assoc)"
   ],
   "id": "1ed9e9cd3813519d",
   "outputs": [],
   "execution_count": 168
  },
  {
   "metadata": {
    "ExecuteTime": {
     "end_time": "2024-06-29T21:46:08.950324Z",
     "start_time": "2024-06-29T21:46:08.936997Z"
    }
   },
   "cell_type": "code",
   "source": [
    "total = {\n",
    "    'suporte_pre': [],\n",
    "    'suporte_pos': [],\n",
    "    'suporte_regra': [],\n",
    "    'confiaca': [],\n",
    "    'lift': [],\n",
    "} \n",
    "\n",
    "for assoc in associations:\n",
    "    total['suporte_pre'].append(assoc.suporte_pre)\n",
    "    total['suporte_pos'].append(assoc.suporte_pos)\n",
    "    total['suporte_regra'].append(assoc.suporte_regra)\n",
    "    total['confiaca'].append(assoc.confiaca)\n",
    "    total['lift'].append(assoc.lift)\n"
   ],
   "id": "361d0e5282560689",
   "outputs": [],
   "execution_count": 169
  },
  {
   "metadata": {
    "ExecuteTime": {
     "end_time": "2024-06-29T21:46:19.813566Z",
     "start_time": "2024-06-29T21:46:19.810315Z"
    }
   },
   "cell_type": "code",
   "source": [
    "for assoc in associations[:10]:\n",
    "    print(assoc.to_csv())"
   ],
   "id": "f40d0bf2568ebe34",
   "outputs": [
    {
     "name": "stdout",
     "output_type": "stream",
     "text": [
      "['br:116.0'] -> ['estado_fisico:Lesões Leves'], 0.158614, 0.364647, 0.158614, 1.0, 2.742378\n",
      "['km:587.0'] -> ['estado_fisico:Lesões Leves'], 0.00074, 0.364647, 0.00074, 1.0, 2.742378\n",
      "['causa_acidente:Ingestão de álcool pelo condutor'] -> ['estado_fisico:Lesões Leves'], 0.048108, 0.364647, 0.048108, 1.0, 2.742378\n",
      "['tipo_acidente:Queda de ocupante de veículo'] -> ['estado_fisico:Lesões Leves'], 0.119893, 0.364647, 0.119893, 1.0, 2.742378\n",
      "['fase_dia:Plena Noite'] -> ['estado_fisico:Lesões Leves'], 0.336745, 0.364647, 0.336745, 1.0, 2.742378\n",
      "['sentido_via:Crescente'] -> ['estado_fisico:Lesões Leves'], 0.543396, 0.364647, 0.543396, 1.0, 2.742378\n",
      "['condicao_metereologica:Nublado'] -> ['estado_fisico:Lesões Leves'], 0.144708, 0.364647, 0.144708, 1.0, 2.742378\n",
      "['tipo_pista:Simples'] -> ['estado_fisico:Lesões Leves'], 0.538482, 0.364647, 0.538482, 1.0, 2.742378\n",
      "['tipo_veiculo:Motocicleta'] -> ['estado_fisico:Lesões Leves'], 0.205475, 0.364647, 0.205475, 1.0, 2.742378\n",
      "['ano_fabricacao_veiculo:2018.0'] -> ['estado_fisico:Lesões Leves'], 0.056165, 0.364647, 0.056165, 1.0, 2.742378\n"
     ]
    }
   ],
   "execution_count": 172
  },
  {
   "metadata": {
    "ExecuteTime": {
     "end_time": "2024-06-29T22:36:25.295114Z",
     "start_time": "2024-06-29T22:36:25.284963Z"
    }
   },
   "cell_type": "code",
   "source": [
    "assocs_lift = []\n",
    "\n",
    "for i, x in enumerate(associations):\n",
    "    if x.suporte_regra > 0.3:\n",
    "        assocs_lift.append([i, x])"
   ],
   "id": "5caf590abd75a17c",
   "outputs": [],
   "execution_count": 186
  },
  {
   "metadata": {
    "ExecuteTime": {
     "end_time": "2024-06-29T22:37:53.377182Z",
     "start_time": "2024-06-29T22:37:53.367271Z"
    }
   },
   "cell_type": "code",
   "source": [
    "for assoc in assocs_lift:\n",
    "    print(assoc[0], '-', assoc[1])"
   ],
   "id": "1e719586f6f3d590",
   "outputs": [
    {
     "name": "stdout",
     "output_type": "stream",
     "text": [
      "4 - ['fase_dia:Plena Noite'] -> ['estado_fisico:Lesões Leves'], sup_pre:33.6745%,  sup_pos:36.4647%,  sup_regra:33.6745%, conf:100.0%, lift:2.742378\n",
      "5 - ['sentido_via:Crescente'] -> ['estado_fisico:Lesões Leves'], sup_pre:54.3396%,  sup_pos:36.4647%,  sup_regra:54.3396%, conf:100.0%, lift:2.742378\n",
      "7 - ['tipo_pista:Simples'] -> ['estado_fisico:Lesões Leves'], sup_pre:53.8482%,  sup_pos:36.4647%,  sup_regra:53.8482%, conf:100.0%, lift:2.742378\n",
      "10 - ['tipo_envolvido:Condutor'] -> ['estado_fisico:Lesões Leves'], sup_pre:66.6833%,  sup_pos:36.4647%,  sup_regra:66.6833%, conf:100.0%, lift:2.742378\n",
      "12 - ['sexo:Masculino'] -> ['estado_fisico:Lesões Leves'], sup_pre:74.32839999999999%,  sup_pos:36.4647%,  sup_regra:74.32839999999999%, conf:100.0%, lift:2.742378\n",
      "19 - ['fase_dia:Pleno dia'] -> ['estado_fisico:Lesões Leves'], sup_pre:55.1651%,  sup_pos:36.4647%,  sup_regra:55.1651%, conf:100.0%, lift:2.742378\n",
      "20 - ['sentido_via:Decrescente'] -> ['estado_fisico:Lesões Leves'], sup_pre:45.6604%,  sup_pos:36.4647%,  sup_regra:45.6604%, conf:100.0%, lift:2.742378\n",
      "22 - ['tipo_pista:Dupla'] -> ['estado_fisico:Lesões Leves'], sup_pre:37.1341%,  sup_pos:36.4647%,  sup_regra:37.1341%, conf:100.0%, lift:2.742378\n",
      "23 - ['tipo_veiculo:Automóvel'] -> ['estado_fisico:Lesões Leves'], sup_pre:39.7906%,  sup_pos:36.4647%,  sup_regra:39.7906%, conf:100.0%, lift:2.742378\n",
      "30 - ['fase_dia:Plena Noite'] -> ['estado_fisico:Lesões Graves'], sup_pre:33.6745%,  sup_pos:13.112599999999999%,  sup_regra:33.6745%, conf:100.0%, lift:7.626253\n",
      "31 - ['sentido_via:Decrescente'] -> ['estado_fisico:Lesões Graves'], sup_pre:45.6604%,  sup_pos:13.112599999999999%,  sup_regra:45.6604%, conf:100.0%, lift:7.626253\n",
      "32 - ['condicao_metereologica:Céu Claro'] -> ['estado_fisico:Lesões Graves'], sup_pre:61.626999999999995%,  sup_pos:13.112599999999999%,  sup_regra:61.626999999999995%, conf:100.0%, lift:7.626253\n",
      "34 - ['tipo_veiculo:Automóvel'] -> ['estado_fisico:Lesões Graves'], sup_pre:39.7906%,  sup_pos:13.112599999999999%,  sup_regra:39.7906%, conf:100.0%, lift:7.626253\n",
      "36 - ['tipo_envolvido:Passageiro'] -> ['estado_fisico:Lesões Graves'], sup_pre:31.8023%,  sup_pos:13.112599999999999%,  sup_regra:31.8023%, conf:100.0%, lift:7.626253\n",
      "45 - ['sexo:Masculino'] -> ['estado_fisico:Lesões Graves'], sup_pre:74.32839999999999%,  sup_pos:13.112599999999999%,  sup_regra:74.32839999999999%, conf:100.0%, lift:7.626253\n",
      "46 - ['tipo_envolvido:Condutor'] -> ['estado_fisico:Lesões Graves'], sup_pre:66.6833%,  sup_pos:13.112599999999999%,  sup_regra:66.6833%, conf:100.0%, lift:7.626253\n",
      "53 - ['tipo_pista:Dupla'] -> ['estado_fisico:Lesões Graves'], sup_pre:37.1341%,  sup_pos:13.112599999999999%,  sup_regra:37.1341%, conf:100.0%, lift:7.626253\n",
      "64 - ['fase_dia:Plena Noite'] -> ['estado_fisico:Ileso'], sup_pre:33.6745%,  sup_pos:45.0271%,  sup_regra:33.6745%, conf:100.0%, lift:2.220885\n",
      "65 - ['sentido_via:Crescente'] -> ['estado_fisico:Ileso'], sup_pre:54.3396%,  sup_pos:45.0271%,  sup_regra:54.3396%, conf:100.0%, lift:2.220885\n",
      "66 - ['condicao_metereologica:Céu Claro'] -> ['estado_fisico:Ileso'], sup_pre:61.626999999999995%,  sup_pos:45.0271%,  sup_regra:61.626999999999995%, conf:100.0%, lift:2.220885\n",
      "67 - ['tipo_pista:Simples'] -> ['estado_fisico:Ileso'], sup_pre:53.8482%,  sup_pos:45.0271%,  sup_regra:53.8482%, conf:100.0%, lift:2.220885\n",
      "68 - ['tipo_veiculo:Automóvel'] -> ['estado_fisico:Ileso'], sup_pre:39.7906%,  sup_pos:45.0271%,  sup_regra:39.7906%, conf:100.0%, lift:2.220885\n",
      "70 - ['tipo_envolvido:Condutor'] -> ['estado_fisico:Ileso'], sup_pre:66.6833%,  sup_pos:45.0271%,  sup_regra:66.6833%, conf:100.0%, lift:2.220885\n",
      "72 - ['sexo:Masculino'] -> ['estado_fisico:Ileso'], sup_pre:74.32839999999999%,  sup_pos:45.0271%,  sup_regra:74.32839999999999%, conf:100.0%, lift:2.220885\n",
      "74 - ['tipo_envolvido:Passageiro'] -> ['estado_fisico:Ileso'], sup_pre:31.8023%,  sup_pos:45.0271%,  sup_regra:31.8023%, conf:100.0%, lift:2.220885\n",
      "84 - ['condicao_metereologica:Céu Claro'] -> ['estado_fisico:Lesões Leves'], sup_pre:61.626999999999995%,  sup_pos:36.4647%,  sup_regra:61.626999999999995%, conf:100.0%, lift:2.742378\n",
      "86 - ['tipo_envolvido:Passageiro'] -> ['estado_fisico:Lesões Leves'], sup_pre:31.8023%,  sup_pos:36.4647%,  sup_regra:31.8023%, conf:100.0%, lift:2.742378\n",
      "125 - ['fase_dia:Plena Noite'] -> ['estado_fisico:Óbito'], sup_pre:33.6745%,  sup_pos:5.3956%,  sup_regra:33.6745%, conf:100.0%, lift:18.53362\n",
      "126 - ['sentido_via:Crescente'] -> ['estado_fisico:Óbito'], sup_pre:54.3396%,  sup_pos:5.3956%,  sup_regra:54.3396%, conf:100.0%, lift:18.53362\n",
      "129 - ['tipo_veiculo:Automóvel'] -> ['estado_fisico:Óbito'], sup_pre:39.7906%,  sup_pos:5.3956%,  sup_regra:39.7906%, conf:100.0%, lift:18.53362\n",
      "131 - ['tipo_envolvido:Passageiro'] -> ['estado_fisico:Óbito'], sup_pre:31.8023%,  sup_pos:5.3956%,  sup_regra:31.8023%, conf:100.0%, lift:18.53362\n",
      "135 - ['tipo_envolvido:Condutor'] -> ['estado_fisico:Óbito'], sup_pre:66.6833%,  sup_pos:5.3956%,  sup_regra:66.6833%, conf:100.0%, lift:18.53362\n",
      "137 - ['sexo:Masculino'] -> ['estado_fisico:Óbito'], sup_pre:74.32839999999999%,  sup_pos:5.3956%,  sup_regra:74.32839999999999%, conf:100.0%, lift:18.53362\n",
      "188 - ['sentido_via:Decrescente'] -> ['estado_fisico:Ileso'], sup_pre:45.6604%,  sup_pos:45.0271%,  sup_regra:45.6604%, conf:100.0%, lift:2.220885\n",
      "189 - ['tipo_pista:Dupla'] -> ['estado_fisico:Ileso'], sup_pre:37.1341%,  sup_pos:45.0271%,  sup_regra:37.1341%, conf:100.0%, lift:2.220885\n",
      "213 - ['sentido_via:Crescente'] -> ['estado_fisico:Lesões Graves'], sup_pre:54.3396%,  sup_pos:13.112599999999999%,  sup_regra:54.3396%, conf:100.0%, lift:7.626253\n",
      "214 - ['tipo_pista:Simples'] -> ['estado_fisico:Lesões Graves'], sup_pre:53.8482%,  sup_pos:13.112599999999999%,  sup_regra:53.8482%, conf:100.0%, lift:7.626253\n",
      "221 - ['condicao_metereologica:Céu Claro'] -> ['estado_fisico:Óbito'], sup_pre:61.626999999999995%,  sup_pos:5.3956%,  sup_regra:61.626999999999995%, conf:100.0%, lift:18.53362\n",
      "222 - ['tipo_pista:Simples'] -> ['estado_fisico:Óbito'], sup_pre:53.8482%,  sup_pos:5.3956%,  sup_regra:53.8482%, conf:100.0%, lift:18.53362\n",
      "237 - ['sentido_via:Decrescente'] -> ['estado_fisico:Óbito'], sup_pre:45.6604%,  sup_pos:5.3956%,  sup_regra:45.6604%, conf:100.0%, lift:18.53362\n",
      "252 - ['tipo_pista:Dupla'] -> ['estado_fisico:Óbito'], sup_pre:37.1341%,  sup_pos:5.3956%,  sup_regra:37.1341%, conf:100.0%, lift:18.53362\n",
      "266 - ['fase_dia:Pleno dia'] -> ['estado_fisico:Ileso'], sup_pre:55.1651%,  sup_pos:45.0271%,  sup_regra:55.1651%, conf:100.0%, lift:2.220885\n",
      "300 - ['fase_dia:Pleno dia'] -> ['estado_fisico:Lesões Graves'], sup_pre:55.1651%,  sup_pos:13.112599999999999%,  sup_regra:55.1651%, conf:100.0%, lift:7.626253\n",
      "353 - ['fase_dia:Pleno dia'] -> ['estado_fisico:Óbito'], sup_pre:55.1651%,  sup_pos:5.3956%,  sup_regra:55.1651%, conf:100.0%, lift:18.53362\n"
     ]
    }
   ],
   "execution_count": 190
  },
  {
   "metadata": {
    "ExecuteTime": {
     "end_time": "2024-06-29T22:47:01.531294Z",
     "start_time": "2024-06-29T22:47:01.516379Z"
    }
   },
   "cell_type": "code",
   "source": [
    "\n",
    "column = associations[237]\n",
    "for assoc in associations:\n",
    "    if assoc.pre[0].column == column.pre[0].column and assoc.pre[0].value == column.pre[0].value:\n",
    "        print(assoc)"
   ],
   "id": "c7d9b03f21b4da4",
   "outputs": [
    {
     "name": "stdout",
     "output_type": "stream",
     "text": [
      "['sentido_via:Decrescente'] -> ['estado_fisico:Lesões Leves'], sup_pre:45.6604%,  sup_pos:36.4647%,  sup_regra:45.6604%, conf:100.0%, lift:2.742378\n",
      "['sentido_via:Decrescente'] -> ['estado_fisico:Lesões Graves'], sup_pre:45.6604%,  sup_pos:13.112599999999999%,  sup_regra:45.6604%, conf:100.0%, lift:7.626253\n",
      "['sentido_via:Decrescente'] -> ['estado_fisico:Ileso'], sup_pre:45.6604%,  sup_pos:45.0271%,  sup_regra:45.6604%, conf:100.0%, lift:2.220885\n",
      "['sentido_via:Decrescente'] -> ['estado_fisico:Óbito'], sup_pre:45.6604%,  sup_pos:5.3956%,  sup_regra:45.6604%, conf:100.0%, lift:18.53362\n"
     ]
    }
   ],
   "execution_count": 207
  },
  {
   "metadata": {
    "ExecuteTime": {
     "end_time": "2024-06-29T21:17:48.922445Z",
     "start_time": "2024-06-29T21:17:48.918615Z"
    }
   },
   "cell_type": "code",
   "source": "",
   "id": "5e547d2478dbe009",
   "outputs": [
    {
     "data": {
      "text/plain": [
       "3097"
      ]
     },
     "execution_count": 122,
     "metadata": {},
     "output_type": "execute_result"
    }
   ],
   "execution_count": 122
  },
  {
   "metadata": {
    "ExecuteTime": {
     "end_time": "2024-06-29T22:33:31.642987Z",
     "start_time": "2024-06-29T22:33:31.499251Z"
    }
   },
   "cell_type": "code",
   "source": [
    "f = open(\"assoc_v1.csv\", \"w\")\n",
    "f.write(\"pre, pos, sup_pre, sup_pos, sup_regra, conf, lift\\n\")\n",
    "for assoc in associations:\n",
    "    f.write(f\"{assoc.to_csv()}\\n\")\n",
    "f.close()"
   ],
   "id": "f85cd251b949621a",
   "outputs": [],
   "execution_count": 185
  },
  {
   "metadata": {
    "ExecuteTime": {
     "end_time": "2024-06-29T21:48:21.191654Z",
     "start_time": "2024-06-29T21:48:21.188697Z"
    }
   },
   "cell_type": "code",
   "source": "str(associations[0])",
   "id": "480beb8dd08916e7",
   "outputs": [
    {
     "data": {
      "text/plain": [
       "\"['br:116.0'] -> ['estado_fisico:Lesões Leves'], sup_pre:15.8614%,  sup_pos:36.4647%,  sup_regra:15.8614%, conf:100.0%, lift:2.742378\""
      ]
     },
     "execution_count": 176,
     "metadata": {},
     "output_type": "execute_result"
    }
   ],
   "execution_count": 176
  }
 ],
 "metadata": {
  "kernelspec": {
   "display_name": "Python 3",
   "language": "python",
   "name": "python3"
  },
  "language_info": {
   "codemirror_mode": {
    "name": "ipython",
    "version": 2
   },
   "file_extension": ".py",
   "mimetype": "text/x-python",
   "name": "python",
   "nbconvert_exporter": "python",
   "pygments_lexer": "ipython2",
   "version": "2.7.6"
  }
 },
 "nbformat": 4,
 "nbformat_minor": 5
}
